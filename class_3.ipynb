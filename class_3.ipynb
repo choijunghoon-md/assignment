{
  "nbformat": 4,
  "nbformat_minor": 0,
  "metadata": {
    "colab": {
      "private_outputs": true,
      "provenance": []
    },
    "kernelspec": {
      "name": "python3",
      "display_name": "Python 3"
    },
    "language_info": {
      "name": "python"
    }
  },
  "cells": [
    {
      "cell_type": "markdown",
      "source": [
        "과제 적어넣는 용 : 아이템당 주문 개수와 총량 구하기"
      ],
      "metadata": {
        "id": "517qOLYrbXrh"
      }
    },
    {
      "cell_type": "code",
      "source": [
        "import pandas as pd\n",
        "import numpy as up\n",
        "import matplotlib.pyplot as plt\n",
        "import random\n",
        "import numpy as np\n",
        "df = pd.read_csv(\"/content/data_ex.csv\")\n",
        "df.head()  #6~10개만"
      ],
      "metadata": {
        "id": "HUXbHPOqbanJ"
      },
      "execution_count": null,
      "outputs": []
    },
    {
      "cell_type": "code",
      "source": [
        "df.info()"
      ],
      "metadata": {
        "id": "VYCv3hdDkB8L"
      },
      "execution_count": null,
      "outputs": []
    },
    {
      "cell_type": "code",
      "source": [
        "df"
      ],
      "metadata": {
        "id": "uq0tRtqvkHFp"
      },
      "execution_count": null,
      "outputs": []
    },
    {
      "cell_type": "code",
      "source": [
        "df.shape"
      ],
      "metadata": {
        "id": "Nwb_zkHIkoSv"
      },
      "execution_count": null,
      "outputs": []
    },
    {
      "cell_type": "code",
      "source": [
        "df['AGE'].sum()"
      ],
      "metadata": {
        "id": "z_j2Bhe3krRx"
      },
      "execution_count": null,
      "outputs": []
    },
    {
      "cell_type": "code",
      "source": [
        "df.count()"
      ],
      "metadata": {
        "id": "FoeG9647lKYr"
      },
      "execution_count": null,
      "outputs": []
    },
    {
      "cell_type": "code",
      "source": [
        "df[['SEX','AREA']].describe()  #unique:범주형 data의 leval수"
      ],
      "metadata": {
        "id": "1mY7MUS2lbRQ"
      },
      "execution_count": null,
      "outputs": []
    },
    {
      "cell_type": "code",
      "source": [
        "df['SEX'].unique()"
      ],
      "metadata": {
        "id": "E53iE-b8mZgi"
      },
      "execution_count": null,
      "outputs": []
    },
    {
      "cell_type": "code",
      "source": [
        "df['AREA'].unique()"
      ],
      "metadata": {
        "id": "28jKMycsm2XJ"
      },
      "execution_count": null,
      "outputs": []
    },
    {
      "cell_type": "code",
      "source": [
        "df['AREA'].value_counts()"
      ],
      "metadata": {
        "id": "rA96rb0Um8Vx"
      },
      "execution_count": null,
      "outputs": []
    },
    {
      "cell_type": "code",
      "source": [
        "df['AGE'].sort_values()"
      ],
      "metadata": {
        "id": "vqxhOsc_nEHC"
      },
      "execution_count": null,
      "outputs": []
    },
    {
      "cell_type": "code",
      "source": [
        "age=df[\"AGE\"].values.tolist()\n",
        "age"
      ],
      "metadata": {
        "id": "iJ9MSMWhnNXJ"
      },
      "execution_count": null,
      "outputs": []
    },
    {
      "cell_type": "code",
      "source": [
        "age=df[\"AGE\"].values.tolist()\n",
        "plt.hist(age, bins=50)\n",
        "plt.ylim([0,3])\n",
        "plt.xlabel(\"age\")\n",
        "plt.ylabel('Num')"
      ],
      "metadata": {
        "id": "WChwSr-VnaDJ"
      },
      "execution_count": null,
      "outputs": []
    },
    {
      "cell_type": "code",
      "source": [
        "sex=df[\"SEX\"].values.tolist()\n",
        "plt.hist(sex, bins=3)\n",
        "plt.ylim([0,7])\n",
        "plt.xlabel(\"sex\")\n",
        "plt.ylabel('Num')"
      ],
      "metadata": {
        "id": "8P3mmb8TojCB"
      },
      "execution_count": null,
      "outputs": []
    },
    {
      "cell_type": "code",
      "source": [
        "area=df[\"AREA\"].values.tolist()\n",
        "plt.hist(area, bins=7)\n",
        "plt.ylim([0,6])\n",
        "plt.xlabel(\"area\")\n",
        "plt.ylabel('Num')"
      ],
      "metadata": {
        "id": "P9PwoKhvo15a"
      },
      "execution_count": null,
      "outputs": []
    },
    {
      "cell_type": "code",
      "source": [
        "grouped_sex = df.groupby(\"SEX\")\n",
        "print(grouped_sex)"
      ],
      "metadata": {
        "id": "rvNESgP7pnCI"
      },
      "execution_count": null,
      "outputs": []
    },
    {
      "cell_type": "code",
      "source": [
        "for key, value in grouped_sex:\n",
        "    print(\"key : \",key)\n",
        "    print(\"value : \",value)"
      ],
      "metadata": {
        "id": "komGNj1Qpywh"
      },
      "execution_count": null,
      "outputs": []
    },
    {
      "cell_type": "code",
      "source": [
        "grouped_area = df.groupby(\"AREA\")\n",
        "for key, value in grouped_area:\n",
        "    print(\"key : \",key)\n",
        "    print(\"value : \",value)"
      ],
      "metadata": {
        "id": "8jvK8PqsqHIi"
      },
      "execution_count": null,
      "outputs": []
    },
    {
      "cell_type": "code",
      "source": [
        "grouped_age = df.groupby(\"AGE\")\n",
        "for key, value in grouped_age:\n",
        "    print(\"key : \",key)\n",
        "    print(\"value : \",value)"
      ],
      "metadata": {
        "id": "XGt7JrDBqcz5"
      },
      "execution_count": null,
      "outputs": []
    },
    {
      "cell_type": "code",
      "source": [
        "df.groupby(\"SEX\").sum()"
      ],
      "metadata": {
        "id": "EXlzFsLSqqcM"
      },
      "execution_count": null,
      "outputs": []
    },
    {
      "cell_type": "code",
      "source": [
        "df[\"중년\"] = df['AGE'] > 49\n",
        "df"
      ],
      "metadata": {
        "id": "dRmZAHRIrEmr"
      },
      "execution_count": null,
      "outputs": []
    },
    {
      "cell_type": "code",
      "source": [
        "def age_name(Age):\n",
        "    name = ''\n",
        "    if Age <= 25 : name = '사회초년생'\n",
        "    elif Age <= 35 and Age > 25 : name=\"사회생활 1~10년차\"\n",
        "    elif Age <= 45 : name=\"관리자 역활\"\n",
        "    else : name = \"은퇴 예정자\"\n",
        "    return name"
      ],
      "metadata": {
        "id": "mceUxeDSq1Ja"
      },
      "execution_count": null,
      "outputs": []
    },
    {
      "cell_type": "code",
      "source": [
        "x=df['AGE']\n",
        "df[\"AGED\"]=df['AGE'].apply(lambda x : age_name(x))\n",
        "df"
      ],
      "metadata": {
        "id": "fKLVrqofrsoZ"
      },
      "execution_count": null,
      "outputs": []
    },
    {
      "cell_type": "code",
      "source": [
        "file = \"/content/chipotle.tsv\"\n",
        "chipo = pd.read_csv(file, sep=\"\\t\")\n",
        "print(chipo.shape)\n",
        "print(\"----------------------------------------------------\")\n",
        "print(chipo.info())\n",
        "print(\"----------------------------------------------------\")"
      ],
      "metadata": {
        "id": "HY_2vWvNsMUi"
      },
      "execution_count": null,
      "outputs": []
    },
    {
      "cell_type": "code",
      "source": [
        "chipo.head(10)"
      ],
      "metadata": {
        "id": "olqvWlujtia8"
      },
      "execution_count": null,
      "outputs": []
    },
    {
      "cell_type": "code",
      "source": [
        "print(chipo.describe())"
      ],
      "metadata": {
        "id": "f0GE4yk_t_Ly"
      },
      "execution_count": null,
      "outputs": []
    },
    {
      "cell_type": "code",
      "source": [
        "print(chipo.columns)"
      ],
      "metadata": {
        "id": "GaH15neJuGY6"
      },
      "execution_count": null,
      "outputs": []
    },
    {
      "cell_type": "code",
      "source": [
        "print(chipo.index)"
      ],
      "metadata": {
        "id": "4bM_79ZBuS9i"
      },
      "execution_count": null,
      "outputs": []
    },
    {
      "cell_type": "code",
      "source": [
        "chipo[[\"item_name\",\"choice_description\",\"item_price\"]].describe()"
      ],
      "metadata": {
        "id": "hpypIankuWha"
      },
      "execution_count": null,
      "outputs": []
    },
    {
      "cell_type": "code",
      "source": [
        "item_count = chipo['item_name'].value_counts()\n",
        "item_count"
      ],
      "metadata": {
        "id": "0z-8er3cuwlg"
      },
      "execution_count": null,
      "outputs": []
    },
    {
      "cell_type": "code",
      "source": [
        "item_count.describe()"
      ],
      "metadata": {
        "id": "dXdDstanu3bv"
      },
      "execution_count": null,
      "outputs": []
    },
    {
      "cell_type": "code",
      "source": [
        "plt.hist(item_count)\n",
        "plt.xlabel(\"ordered_item_count\")\n",
        "plt.title('Distribution of all ordered item count')\n",
        "plt.show()"
      ],
      "metadata": {
        "id": "MJRDfNEvvWLx"
      },
      "execution_count": null,
      "outputs": []
    },
    {
      "cell_type": "code",
      "source": [
        "item_count_10 = chipo['item_name'].value_counts()[:10]\n",
        "item_count_10"
      ],
      "metadata": {
        "id": "N7lKSp-KwcTz"
      },
      "execution_count": null,
      "outputs": []
    },
    {
      "cell_type": "code",
      "source": [
        "item_count_1 = chipo['item_name'].value_counts()[:1]\n",
        "item_count_1"
      ],
      "metadata": {
        "id": "5V40s39ywtXR"
      },
      "execution_count": null,
      "outputs": []
    },
    {
      "cell_type": "code",
      "source": [
        "for idx, (val,cnt) in enumerate(item_count_10.items(),1):\n",
        "    print(\"Top\",idx,\":\",val,cnt)"
      ],
      "metadata": {
        "id": "WfDQKogDw2ko"
      },
      "execution_count": null,
      "outputs": []
    },
    {
      "cell_type": "code",
      "source": [
        "item_quantity = chipo.groupby('item_name')['quarrtity']\n",
        "item_quantity"
      ],
      "metadata": {
        "id": "NPq7R67BCuHP"
      },
      "execution_count": null,
      "outputs": []
    },
    {
      "cell_type": "code",
      "source": [
        "item_quantity.index"
      ],
      "metadata": {
        "id": "TxNsMv_gEEWg"
      },
      "execution_count": null,
      "outputs": []
    },
    {
      "cell_type": "code",
      "source": [
        "item_quantity.values"
      ],
      "metadata": {
        "id": "b4dsfSvhD1dt"
      },
      "execution_count": null,
      "outputs": []
    },
    {
      "cell_type": "code",
      "source": [
        "item_quantity_index=item_quantity.index.tolist()\n",
        "len(item_quantity_index)"
      ],
      "metadata": {
        "id": "TBmoHeiFEH6u"
      },
      "execution_count": null,
      "outputs": []
    },
    {
      "cell_type": "code",
      "source": [
        "x=np.arange(len(item_quantity_index))\n",
        "x"
      ],
      "metadata": {
        "id": "tDmmRflGEhEv"
      },
      "execution_count": null,
      "outputs": []
    },
    {
      "cell_type": "code",
      "source": [
        "order_cnt=item_quantity.values.tolist()\n",
        "print(order_cnt)"
      ],
      "metadata": {
        "id": "7cICnTQ-EnzX"
      },
      "execution_count": null,
      "outputs": []
    },
    {
      "cell_type": "code",
      "source": [
        "plt.bar(x.order_cnt)\n",
        "plt.xlabel(\"item_name\")\n",
        "plt.ylabel(\"ordered Count\")\n",
        "plt.title(\"Distribution of all Ordered item\")\n",
        "plt.show"
      ],
      "metadata": {
        "id": "ik1TW7K-E0m_"
      },
      "execution_count": null,
      "outputs": []
    },
    {
      "cell_type": "code",
      "source": [
        "chipo.head()"
      ],
      "metadata": {
        "id": "zj-iljQaGI8m"
      },
      "execution_count": null,
      "outputs": []
    },
    {
      "cell_type": "code",
      "source": [
        "chipo.info()"
      ],
      "metadata": {
        "id": "j3DhqNvyGj8l"
      },
      "execution_count": null,
      "outputs": []
    },
    {
      "cell_type": "code",
      "source": [
        "x=chipo['item_price']\n",
        "chipo['item_price']=chipo['item_price'].apply(lambda x : float(x[1:]))"
      ],
      "metadata": {
        "id": "lnev02icGpl_"
      },
      "execution_count": null,
      "outputs": []
    },
    {
      "cell_type": "code",
      "source": [
        "chipo.info()"
      ],
      "metadata": {
        "id": "IW6qszfNG653"
      },
      "execution_count": null,
      "outputs": []
    },
    {
      "cell_type": "code",
      "source": [
        "chipo.groupby('order_id')['item_price'].sum().mean()"
      ],
      "metadata": {
        "id": "-XZSsbNvGXpN"
      },
      "execution_count": null,
      "outputs": []
    },
    {
      "cell_type": "code",
      "source": [
        "chipo.groupby('order_id')['item_price'].sum()"
      ],
      "metadata": {
        "id": "NUo--lftIVZE"
      },
      "execution_count": null,
      "outputs": []
    },
    {
      "cell_type": "code",
      "source": [
        "item_price = chipo.groupby('order_id')['item_price'].sum()\n",
        "item_price"
      ],
      "metadata": {
        "id": "4Hp46M7OIyi9"
      },
      "execution_count": null,
      "outputs": []
    },
    {
      "cell_type": "code",
      "source": [
        "item_price_index = item_price.index.tolist()"
      ],
      "metadata": {
        "id": "A-bSvqfWJP_c"
      },
      "execution_count": null,
      "outputs": []
    },
    {
      "cell_type": "code",
      "source": [
        "x=np.arange(len(item_price_index))\n",
        "x"
      ],
      "metadata": {
        "id": "a0gJgTe7JBw8"
      },
      "execution_count": null,
      "outputs": []
    },
    {
      "cell_type": "code",
      "source": [
        "item_price_values = item_price.values.tolist()\n",
        "print(item_price_values)"
      ],
      "metadata": {
        "id": "6v0ItfGiKJyA"
      },
      "execution_count": null,
      "outputs": []
    },
    {
      "cell_type": "code",
      "source": [
        "plt.bar(x,item_price_values)\n",
        "plt.xlabe('Order_ld')\n",
        "plt.ylabe(\"Item Price\")\n",
        "plt.ylim([0,100])\n",
        "plt.title(\"Distribution of Item Price\")\n",
        "plt.show()"
      ],
      "metadata": {
        "id": "_LhB96UEKfpU"
      },
      "execution_count": null,
      "outputs": []
    },
    {
      "cell_type": "code",
      "source": [
        "plt.hust(item_price)\n",
        "plt.xlim([0,130])\n",
        "plt.xlabe('Item Prtice')\n",
        "plt.ylabe(\"Price_Count\")\n",
        "plt.show()"
      ],
      "metadata": {
        "id": "USJIDw8HLSRF"
      },
      "execution_count": null,
      "outputs": []
    },
    {
      "cell_type": "code",
      "source": [
        "#추신... 제 구글 계정이 문제가 생겨서... 파일을 못가져 오고있습니다..."
      ],
      "metadata": {
        "id": "Nce_MvKaLXxR"
      },
      "execution_count": null,
      "outputs": []
    }
  ]
}