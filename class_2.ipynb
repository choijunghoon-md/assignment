{
  "nbformat": 4,
  "nbformat_minor": 0,
  "metadata": {
    "colab": {
      "private_outputs": true,
      "provenance": []
    },
    "kernelspec": {
      "name": "python3",
      "display_name": "Python 3"
    },
    "language_info": {
      "name": "python"
    }
  },
  "cells": [
    {
      "cell_type": "code",
      "source": [
        "for  i in range(10):\n",
        "    print(i)"
      ],
      "metadata": {
        "id": "OyJc46HuXBmz"
      },
      "execution_count": null,
      "outputs": []
    },
    {
      "cell_type": "code",
      "source": [
        "a=[1,3,5,7,9,11,13]\n",
        "for i in range(7):\n",
        "    if i%2==0:\n",
        "         print(a[i])"
      ],
      "metadata": {
        "id": "hK-4zqGIYnKr"
      },
      "execution_count": null,
      "outputs": []
    },
    {
      "cell_type": "code",
      "source": [
        "a=[]\n",
        "for i in range(3):\n",
        "    a.append(i)\n",
        "print(a)"
      ],
      "metadata": {
        "id": "1Dof-_GRaXZT"
      },
      "execution_count": null,
      "outputs": []
    },
    {
      "cell_type": "code",
      "source": [
        "a=[]\n",
        "b=[]\n",
        "c=[]\n",
        "\n",
        "for i in range(7):\n",
        "    if i>0 and i<4:\n",
        "        a.append(i)\n",
        "    if i>3 and i<7:\n",
        "        b.append(i)\n",
        "    if i>2 and i<6:\n",
        "        c.append(i)\n",
        "print(a)\n",
        "print(b)\n",
        "print(c)"
      ],
      "metadata": {
        "id": "DxTEEDTMZ_ib"
      },
      "execution_count": null,
      "outputs": []
    },
    {
      "cell_type": "code",
      "source": [
        "U1 = a+b\n",
        "U1"
      ],
      "metadata": {
        "id": "Cld1xQFrbEfi"
      },
      "execution_count": null,
      "outputs": []
    },
    {
      "cell_type": "code",
      "source": [
        "U2 = a+c\n",
        "U2"
      ],
      "metadata": {
        "id": "h54Nq23-bOvi"
      },
      "execution_count": null,
      "outputs": []
    },
    {
      "cell_type": "code",
      "source": [
        "L = []\n",
        "for i in a:\n",
        "    for j in c:\n",
        "        if(i==j):\n",
        "            L.append(j)\n",
        "L"
      ],
      "metadata": {
        "id": "GviLmb7Rba_B"
      },
      "execution_count": null,
      "outputs": []
    },
    {
      "cell_type": "code",
      "source": [
        "l=[]\n",
        "for i in a:\n",
        "    if i in c:\n",
        "        print(i)\n",
        "        l.append(i)\n",
        "l"
      ],
      "metadata": {
        "id": "wQhHq0YLcXub"
      },
      "execution_count": null,
      "outputs": []
    },
    {
      "cell_type": "code",
      "source": [
        "for i in a:\n",
        "    if i in c:\n",
        "        a.remove(i)\n",
        "a"
      ],
      "metadata": {
        "id": "kVdQKbVnb2lq"
      },
      "execution_count": null,
      "outputs": []
    },
    {
      "cell_type": "code",
      "source": [
        "U = a+c\n",
        "U"
      ],
      "metadata": {
        "id": "pI9WZDsyeJlC"
      },
      "execution_count": null,
      "outputs": []
    },
    {
      "cell_type": "code",
      "source": [
        "a=[1,2,3]\n",
        "c=[3,4,5]\n",
        "d=[]\n",
        "\n",
        "for i in a:\n",
        "    if i not in c:\n",
        "        c.append(i)\n",
        "c.sort()\n",
        "c"
      ],
      "metadata": {
        "id": "vVaBbjQ0eZSY"
      },
      "execution_count": null,
      "outputs": []
    },
    {
      "cell_type": "code",
      "source": [
        "a=[1,2,3]\n",
        "c=[3,4,5]\n",
        "\n",
        "for i in a:\n",
        "    if i in c:\n",
        "        a.remove(i)\n",
        "a"
      ],
      "metadata": {
        "id": "OUhVcLK-fgXi"
      },
      "execution_count": null,
      "outputs": []
    },
    {
      "cell_type": "code",
      "source": [
        "b=[4,5,6]\n",
        "c=[3,4,5]\n",
        "\n",
        "for i in c:\n",
        "    if i in b:\n",
        "        b.remove(i)\n",
        "\n",
        "b"
      ],
      "metadata": {
        "id": "faZnNWcofqWg"
      },
      "execution_count": null,
      "outputs": []
    },
    {
      "cell_type": "code",
      "source": [
        "b=[1,2,3]\n",
        "c=[3,4,5]\n",
        "d=[]\n",
        "\n",
        "for i in c:\n",
        "    d.append(i)\n",
        "    if i in b:\n",
        "        c.remove(i)\n",
        "c"
      ],
      "metadata": {
        "id": "HJgiZz4cfxzc"
      },
      "execution_count": null,
      "outputs": []
    },
    {
      "cell_type": "code",
      "source": [
        "for i in d:\n",
        "    if i in c:\n",
        "        d.remove(i)\n",
        "d"
      ],
      "metadata": {
        "id": "Hi7VqaEUh4k5"
      },
      "execution_count": null,
      "outputs": []
    },
    {
      "cell_type": "code",
      "source": [
        "num=1\n",
        "while num<10:\n",
        "    print(\"3 x %d = %d\"%(num,num*3))\n",
        "    num += 1"
      ],
      "metadata": {
        "id": "N79ug0XskN6A"
      },
      "execution_count": null,
      "outputs": []
    },
    {
      "cell_type": "code",
      "source": [
        "num=1\n",
        "num2=1\n",
        "while num<10:\n",
        "    while num2<10:\n",
        "        print(\"%d X %d = %d\"%(num,num2,num*num2))\n",
        "        num2 += 1\n",
        "    num += 1\n",
        "    num2=1\n",
        "    print(\"\")"
      ],
      "metadata": {
        "id": "dTWpULP8k62p"
      },
      "execution_count": null,
      "outputs": []
    },
    {
      "cell_type": "code",
      "source": [
        "while True:\n",
        "    print(\"아이디\\n\")\n",
        "    b3 = str(input())\n",
        "    if b3==\"qnf5620\":\n",
        "        print(\"비밀 번호 입력\\n\")\n",
        "        b4 =  str(input())\n",
        "        if b4==\"5620\":\n",
        "            print(\"로그인 완료\\n\")\n",
        "            break\n",
        "        else:\n",
        "            print(\"실패\\n\")\n",
        "    else:\n",
        "        print(\"실패\\n\")\n",
        "        continue"
      ],
      "metadata": {
        "id": "uPwiau4HluoY"
      },
      "execution_count": null,
      "outputs": []
    },
    {
      "cell_type": "code",
      "source": [
        "num=1\n",
        "fac=1\n",
        "while True:\n",
        "    if fac*num>1000:\n",
        "        break\n",
        "    else:\n",
        "        fac *= num\n",
        "        print(\"%d\"%(fac))\n",
        "        num += 1\n",
        "fac"
      ],
      "metadata": {
        "id": "j72KmQSWnk7W"
      },
      "execution_count": null,
      "outputs": []
    },
    {
      "cell_type": "code",
      "source": [
        "num=1\n",
        "fac=1\n",
        "while fac*num<1000:\n",
        "    fac *= num\n",
        "    print(\"%d\"%(fac))\n",
        "    num += 1\n",
        "fac"
      ],
      "metadata": {
        "id": "TjX62Cv0pP_Y"
      },
      "execution_count": null,
      "outputs": []
    },
    {
      "cell_type": "code",
      "source": [
        "import random\n",
        "        "
      ],
      "metadata": {
        "id": "P-EpO8VtppPF"
      },
      "execution_count": null,
      "outputs": []
    },
    {
      "cell_type": "code",
      "source": [
        "num_range=range(1,46)\n",
        "num_list = list(num_range)\n",
        "print(num_list)"
      ],
      "metadata": {
        "id": "X1w17wT9qVJP"
      },
      "execution_count": null,
      "outputs": []
    },
    {
      "cell_type": "code",
      "source": [
        "random.shuffle(num_list)\n",
        "print(num_list)\n",
        "num_list[0]"
      ],
      "metadata": {
        "id": "Vjvh0GKSqlSW"
      },
      "execution_count": null,
      "outputs": []
    },
    {
      "cell_type": "code",
      "source": [
        "num_list_2=[]\n",
        "for i in range(47):\n",
        "    num_list_2.append(i)\n",
        "print(num_list_2)"
      ],
      "metadata": {
        "id": "GEu3HslOrav-"
      },
      "execution_count": null,
      "outputs": []
    },
    {
      "cell_type": "code",
      "source": [
        "random.shuffle(num_list_2)\n",
        "print(num_list_2)\n",
        "num_list_2[0]"
      ],
      "metadata": {
        "id": "ts7p4kFarxGu"
      },
      "execution_count": null,
      "outputs": []
    },
    {
      "cell_type": "code",
      "source": [
        "lotto=[]\n",
        "while len(lotto)<6:\n",
        "    random.shuffle(num_list)\n",
        "    num_selected = num_list[0]\n",
        "    lotto.append(num_selected)\n",
        "print(lotto)"
      ],
      "metadata": {
        "id": "ap0T9SIar5C2"
      },
      "execution_count": null,
      "outputs": []
    },
    {
      "cell_type": "code",
      "source": [
        "A=[]\n",
        "while True:\n",
        "    e=round(random.random(),2)\n",
        "    A.append(e)\n",
        "    if len(A) == 5:\n",
        "        break\n",
        "print(A)"
      ],
      "metadata": {
        "id": "aCPLUO3wtN-O"
      },
      "execution_count": null,
      "outputs": []
    },
    {
      "cell_type": "code",
      "source": [
        "num=0\n",
        "while num<10:\n",
        "    e=random.randint(1,30)\n",
        "    num += 1\n",
        "print(e)"
      ],
      "metadata": {
        "id": "q6XKnWTotkf1"
      },
      "execution_count": null,
      "outputs": []
    },
    {
      "cell_type": "code",
      "source": [
        "num=0\n",
        "while num<10:\n",
        "    e=random.randrange(0,30,5)\n",
        "    num += 1\n",
        "    print(e)"
      ],
      "metadata": {
        "id": "6EulUpDUt162"
      },
      "execution_count": null,
      "outputs": []
    },
    {
      "cell_type": "code",
      "source": [
        "random.sample(num_list,6)"
      ],
      "metadata": {
        "id": "FbK2G9-vuiAW"
      },
      "execution_count": null,
      "outputs": []
    },
    {
      "cell_type": "code",
      "source": [
        "num1=2\n",
        "print(\"숫자를 입력하시오 \\n\")\n",
        "a1=int(input())\n",
        "\n",
        "if a1==2:\n",
        "    print(\"소수입니다.\")\n",
        "elif a1==1:\n",
        "    print(\"소수가 아닙니다.\")\n",
        "else:\n",
        "    while a1>num1 :\n",
        "        if(a1%num1==0) :\n",
        "            print(\"소수가 아닙니다.\")\n",
        "            break  \n",
        "        else:\n",
        "            num1 += 1\n",
        "            if(num1==a1):\n",
        "                print(\"소수입니다.\")\n",
        "                break"
      ],
      "metadata": {
        "id": "9ypbi9uRdG8p"
      },
      "execution_count": null,
      "outputs": []
    },
    {
      "cell_type": "code",
      "source": [
        "num2=1\n",
        "print(\"숫자를 입력하시오 \\n\")\n",
        "a2=int(input())\n",
        "b2=[]\n",
        "while num2 <= a2 :\n",
        "    if a2%num2 ==0:\n",
        "        b2.append(num2)\n",
        "    num2 += 1\n",
        "b2"
      ],
      "metadata": {
        "id": "xNMRMqkjfmib"
      },
      "execution_count": null,
      "outputs": []
    },
    {
      "cell_type": "code",
      "source": [
        "num3=1\n",
        "print(\"숫자를 입력하시오 \\n\")\n",
        "a3=int(input())\n",
        "b3=[]\n",
        "b3_2=[]\n",
        "while num3 <= a3 :\n",
        "    if a3%num3 ==0:\n",
        "        b3.append(num3)\n",
        "    num3 += 1\n",
        "\n",
        "#print(b3)\n",
        "b3.remove(1)\n",
        "for i in b3:\n",
        "    if i == 1:\n",
        "        num3_2=0\n",
        "    elif i == 2:\n",
        "        num3_2=0\n",
        "        b3_2.append(i)\n",
        "    else:\n",
        "        num3_2=2\n",
        "        while i > num3_2:\n",
        "            if i%num3_2==0:\n",
        "                #b3_2.append(num3_2)\n",
        "                break\n",
        "            else:\n",
        "                num3_2 += 1\n",
        "                if num3_2 == i:\n",
        "                    b3_2.append(num3_2)\n",
        "                    break\n",
        "b3_2.sort()\n",
        "print(b3_2)"
      ],
      "metadata": {
        "id": "oVM0oxfLgz_6"
      },
      "execution_count": null,
      "outputs": []
    },
    {
      "cell_type": "code",
      "source": [
        "num4_2=0\n",
        "print(\"첫번째 수를 입력하시오 \\n\")\n",
        "a4=int(input())\n",
        "print(\"두번째 수를 입력하시오 \\n\")\n",
        "b4=int(input())\n",
        "num4_2 = a4\n",
        "while num4_2 > 0:\n",
        "    if num4_2 > a4 or num4_2 > b4:\n",
        "        num4_2 -= 1\n",
        "        continue\n",
        "    else:\n",
        "        if a4%num4_2==0 and b4%num4_2==0:\n",
        "            break\n",
        "        else:\n",
        "             num4_2 -= 1\n",
        "             continue\n",
        "num4_2"
      ],
      "metadata": {
        "id": "nrcJX5ztlNhy"
      },
      "execution_count": null,
      "outputs": []
    },
    {
      "cell_type": "code",
      "source": [
        "num5=1\n",
        "print(\"첫번째 수를 입력하시오 \\n\")\n",
        "a5=int(input())\n",
        "print(\"두번째 수를 입력하시오 \\n\")\n",
        "b5=int(input())\n",
        "while True:\n",
        "    if(num5 % a5 == 0 and num5 % b5 == 0):\n",
        "        break\n",
        "    else:\n",
        "        num5 += 1\n",
        "        continue\n",
        "num5"
      ],
      "metadata": {
        "id": "yb8v9K5SmslR"
      },
      "execution_count": null,
      "outputs": []
    },
    {
      "cell_type": "code",
      "source": [
        "a1=1\n",
        "a1_1=[]\n",
        "ddd=0\n",
        "while a1 <= 100:\n",
        "    num1=2\n",
        "\n",
        "    if a1==2:\n",
        "         #print(\"소수입니다.\")\n",
        "         a1_1.append(a1)\n",
        "    elif a1==1:\n",
        "         #print(\"소수가 아닙니다.\")\n",
        "         ddd=0\n",
        "    else:\n",
        "        while a1>num1 :\n",
        "            if(a1%num1==0) :\n",
        "                #print(\"소수가 아닙니다.\")\n",
        "                break  \n",
        "            else:\n",
        "                num1 += 1\n",
        "                if(num1==a1):\n",
        "                    #print(\"소수입니다.\")\n",
        "                    a1_1.append(a1)\n",
        "                    break\n",
        "    a1 += 1\n",
        "print(a1_1)"
      ],
      "metadata": {
        "id": "BpclCSmfnoKJ"
      },
      "execution_count": null,
      "outputs": []
    }
  ]
}