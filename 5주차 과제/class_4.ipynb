{
  "nbformat": 4,
  "nbformat_minor": 0,
  "metadata": {
    "colab": {
      "private_outputs": true,
      "provenance": []
    },
    "kernelspec": {
      "name": "python3",
      "display_name": "Python 3"
    },
    "language_info": {
      "name": "python"
    }
  },
  "cells": [
    {
      "cell_type": "code",
      "execution_count": null,
      "metadata": {
        "id": "Ga2g_XcYamwd"
      },
      "outputs": [],
      "source": [
        "import tensorflow as tf\n",
        "import numpy as np\n",
        "import matplotlib.pyplot as plt\n",
        "\n",
        "#왜 나만 2인 1팀에서 혼자하는데 왜 나만 2인 1팀에서 혼자하는데 왜 나만 2인 1팀에서 혼자하는데 왜 나만 2인 1팀에서 혼자하는데 왜 나만 2인 1팀에서 혼자하는데 왜 나만 2인 1팀에서 혼자하는데 왜 나만 2인 1팀에서 혼자하는데 왜 나만 2인 1팀에서 혼자하는데"
      ]
    },
    {
      "cell_type": "code",
      "source": [
        "a=1\n",
        "b=2\n",
        "c=tf.math.add(a,b)\n",
        "c"
      ],
      "metadata": {
        "id": "qaekZd24eUWO"
      },
      "execution_count": null,
      "outputs": []
    },
    {
      "cell_type": "markdown",
      "source": [
        "스칼라 정의\n",
        "\n",
        "rank():0\n",
        "\n",
        "shape():0\n",
        "\n",
        "int:32 비트\n",
        "\n",
        "cast():자료형 변환\n"
      ],
      "metadata": {
        "id": "Sw3K4PopfatI"
      }
    },
    {
      "cell_type": "code",
      "source": [
        "c1=tf.constant(1)\n",
        "c2=tf.constant(2)\n",
        "print(c1,c2)"
      ],
      "metadata": {
        "id": "mh4RXy20ezI-"
      },
      "execution_count": null,
      "outputs": []
    },
    {
      "cell_type": "code",
      "source": [
        "f1=tf.cast(c1,tf.float32)\n",
        "f2=tf.cast(c2,tf.float32)\n",
        "print(f1,f2)"
      ],
      "metadata": {
        "id": "leLt3hQugE32"
      },
      "execution_count": null,
      "outputs": []
    },
    {
      "cell_type": "code",
      "source": [
        "add=tf.math.add(c1,c2)\n",
        "add"
      ],
      "metadata": {
        "id": "JMK1UtAVgWdG"
      },
      "execution_count": null,
      "outputs": []
    },
    {
      "cell_type": "code",
      "source": [
        "sub=tf.math.subtract(c1,c2)\n",
        "sub"
      ],
      "metadata": {
        "id": "JMQwKzvUgfWe"
      },
      "execution_count": null,
      "outputs": []
    },
    {
      "cell_type": "markdown",
      "source": [
        "add():더하기\n",
        "\n",
        "substract():빼기\n",
        "\n",
        "multiply()\n",
        "\n",
        "divide()\n",
        "\n",
        "mod():나머지\n",
        "\n",
        "floordiv():몫"
      ],
      "metadata": {
        "id": "-MrO5XL6gwUf"
      }
    },
    {
      "cell_type": "code",
      "source": [
        "dv=tf.math.divide(c1,c2)\n",
        "dv"
      ],
      "metadata": {
        "id": "RdLoQ0mQg-Q2"
      },
      "execution_count": null,
      "outputs": []
    },
    {
      "cell_type": "code",
      "source": [
        "mu=tf.math.multiply(c1,c2)\n",
        "mu"
      ],
      "metadata": {
        "id": "Ovh-wH-ThTCQ"
      },
      "execution_count": null,
      "outputs": []
    },
    {
      "cell_type": "code",
      "source": [
        "md=tf.math.mod(c2,c1)\n",
        "md"
      ],
      "metadata": {
        "id": "-jGzQRPwhdnm"
      },
      "execution_count": null,
      "outputs": []
    },
    {
      "cell_type": "code",
      "source": [
        "fd=tf.math.floordiv(c1,c2)\n",
        "fd"
      ],
      "metadata": {
        "id": "AMzJ8GQfhrZ1"
      },
      "execution_count": null,
      "outputs": []
    },
    {
      "cell_type": "code",
      "source": [
        "py_list=[10,20,30]\n",
        "ten_list=tf.constant(py_list)\n",
        "ten_list"
      ],
      "metadata": {
        "id": "qebZX0g_igcn"
      },
      "execution_count": null,
      "outputs": []
    },
    {
      "cell_type": "code",
      "source": [
        "ten_list=tf.constant([10,20,30],dtype=tf.int32)\n",
        "ten_list"
      ],
      "metadata": {
        "id": "-Xq-bDd2itRu"
      },
      "execution_count": null,
      "outputs": []
    },
    {
      "cell_type": "code",
      "source": [
        "num_arr=np.array([10,20,30])\n",
        "ten_arr=tf.constant(num_arr,dtype=tf.int32)\n",
        "ten_arr"
      ],
      "metadata": {
        "id": "hZ4VJhX6i8xu"
      },
      "execution_count": null,
      "outputs": []
    },
    {
      "cell_type": "code",
      "source": [
        "add_n=tf.math.add(ten_list,ten_arr)\n",
        "add_n\n"
      ],
      "metadata": {
        "id": "pG3yto00jNeG"
      },
      "execution_count": null,
      "outputs": []
    },
    {
      "cell_type": "code",
      "source": [
        "A=ten_list+ten_arr\n",
        "S=ten_list-ten_arr\n",
        "M=ten_list*ten_arr\n",
        "D=ten_list/ten_arr\n",
        "Mo=ten_list%ten_arr\n",
        "Fd=ten_list//ten_arr"
      ],
      "metadata": {
        "id": "SG8GKd5ijkFX"
      },
      "execution_count": null,
      "outputs": []
    },
    {
      "cell_type": "code",
      "source": [
        "A.numpy()"
      ],
      "metadata": {
        "id": "eKHRBYSlkmRw"
      },
      "execution_count": null,
      "outputs": []
    },
    {
      "cell_type": "code",
      "source": [
        "S.numpy()"
      ],
      "metadata": {
        "id": "tSAR47OnknAu"
      },
      "execution_count": null,
      "outputs": []
    },
    {
      "cell_type": "code",
      "source": [
        "M.numpy()"
      ],
      "metadata": {
        "id": "YEk1vlUaknPf"
      },
      "execution_count": null,
      "outputs": []
    },
    {
      "cell_type": "code",
      "source": [
        "D.numpy()"
      ],
      "metadata": {
        "id": "4S7BYY7CknSt"
      },
      "execution_count": null,
      "outputs": []
    },
    {
      "cell_type": "code",
      "source": [
        "Mo.numpy()"
      ],
      "metadata": {
        "id": "etjzfkJHknWe"
      },
      "execution_count": null,
      "outputs": []
    },
    {
      "cell_type": "code",
      "source": [
        "Fd.numpy()"
      ],
      "metadata": {
        "id": "1brpY0CGkxbn"
      },
      "execution_count": null,
      "outputs": []
    },
    {
      "cell_type": "code",
      "source": [
        "l_a=[1,0]\n",
        "l_b=[-1,2]\n",
        "l_c=[1,0]"
      ],
      "metadata": {
        "id": "IpO2CFNpk6nW"
      },
      "execution_count": null,
      "outputs": []
    },
    {
      "cell_type": "code",
      "source": [
        "l_a = tf.constant(l_a)\n",
        "l_b = tf.constant(l_b)\n",
        "l_c = tf.constant(l_c)\n",
        "A=tf.stack([l_a,l_b,l_c])\n",
        "A"
      ],
      "metadata": {
        "id": "ySyBVcd_lA6F"
      },
      "execution_count": null,
      "outputs": []
    },
    {
      "cell_type": "code",
      "source": [
        "l_A=[[20,10],[40,20]]\n",
        "l_B=[[10,20],[30,40]]\n",
        "l_C=[[10,20],[20,40]]"
      ],
      "metadata": {
        "id": "CIktyqanliII"
      },
      "execution_count": null,
      "outputs": []
    },
    {
      "cell_type": "code",
      "source": [
        "l_A = tf.constant(l_A)\n",
        "l_B = tf.constant(l_B)\n",
        "l_C = tf.constant(l_C)\n",
        "AA=tf.stack([l_A,l_B,l_C])\n",
        "AA"
      ],
      "metadata": {
        "id": "9aPet-VamHan"
      },
      "execution_count": null,
      "outputs": []
    },
    {
      "cell_type": "markdown",
      "source": [
        "고차원 텐서\n",
        "\n",
        "1.1차원 배열 1Xm\n",
        "\n",
        "2.tf.constant([1],[2],.....,[i]):텐서 변환\n",
        "\n",
        "3.tf.stack([1],[2],.....,[i])\n",
        "\n",
        "4.shape(i,n,m)"
      ],
      "metadata": {
        "id": "dFpW0A6pqrBW"
      }
    },
    {
      "cell_type": "code",
      "source": [
        "l_c1=[1,2,3,4]\n",
        "l_c2=[3,4,2,5]\n",
        "l_c3=[2,4,2,5]\n",
        "l_c4=[6,5,7,3]\n",
        "l_c5=[1,1,1,1]\n",
        "l_c6=[8,1,0,6]"
      ],
      "metadata": {
        "id": "vZaan-JFqns3"
      },
      "execution_count": null,
      "outputs": []
    },
    {
      "cell_type": "code",
      "source": [
        "l_c1 = tf.constant(l_c1)\n",
        "l_c2 = tf.constant(l_c2)\n",
        "l_c3 = tf.constant(l_c3)\n",
        "l_c4 = tf.constant(l_c4)\n",
        "l_c5 = tf.constant(l_c5)\n",
        "l_c6 = tf.constant(l_c6)"
      ],
      "metadata": {
        "id": "wDHhV8XerQHo"
      },
      "execution_count": null,
      "outputs": []
    },
    {
      "cell_type": "code",
      "source": [
        "A1=tf.stack([l_c1,l_c2])\n",
        "A2=tf.stack([l_c3,l_c4])\n",
        "A3=tf.stack([l_c5,l_c6])\n",
        "\n",
        "AAA=tf.stack([A1,A2,A3])\n",
        "AAA"
      ],
      "metadata": {
        "id": "oCxTHzoJsew9"
      },
      "execution_count": null,
      "outputs": []
    },
    {
      "cell_type": "code",
      "source": [
        "B1=tf.stack([l_c1,l_c2,l_c3])\n",
        "B2=tf.stack([l_c4,l_c5,l_c6])\n",
        "\n",
        "AAAA=tf.stack([B1,B2])\n",
        "AAAA"
      ],
      "metadata": {
        "id": "oX-JLsnHsHDX"
      },
      "execution_count": null,
      "outputs": []
    },
    {
      "cell_type": "code",
      "source": [
        "AA1=tf.stack([A1,A2])\n",
        "AA2=tf.stack([A2,A3])\n",
        "\n",
        "AAAAA=tf.stack([AA1,AA2])\n",
        "AAAAA"
      ],
      "metadata": {
        "id": "LANA9m9Gs7jm"
      },
      "execution_count": null,
      "outputs": []
    },
    {
      "cell_type": "code",
      "source": [
        "x=range(1,10)\n",
        "x=list(x)\n",
        "x1=tf.constant(x)"
      ],
      "metadata": {
        "id": "lWopRTg2tYnW"
      },
      "execution_count": null,
      "outputs": []
    },
    {
      "cell_type": "code",
      "source": [
        "x1"
      ],
      "metadata": {
        "id": "aVFKVZ9GtiaG"
      },
      "execution_count": null,
      "outputs": []
    },
    {
      "cell_type": "code",
      "source": [
        "x1[2:4]"
      ],
      "metadata": {
        "id": "7a_T0xo7tlbW"
      },
      "execution_count": null,
      "outputs": []
    },
    {
      "cell_type": "code",
      "source": [
        "x2=tf.reshape(x1,[3,-1])\n",
        "x2"
      ],
      "metadata": {
        "id": "BKDLzGw8tocu"
      },
      "execution_count": null,
      "outputs": []
    },
    {
      "cell_type": "code",
      "source": [
        "x2[:1]"
      ],
      "metadata": {
        "id": "mSZasKpuuI9_"
      },
      "execution_count": null,
      "outputs": []
    },
    {
      "cell_type": "code",
      "source": [
        "x2[:2]"
      ],
      "metadata": {
        "id": "_MKN0UwhuMrm"
      },
      "execution_count": null,
      "outputs": []
    },
    {
      "cell_type": "code",
      "source": [
        "x2[:,:1]"
      ],
      "metadata": {
        "id": "89HShWzLuOP-"
      },
      "execution_count": null,
      "outputs": []
    },
    {
      "cell_type": "code",
      "source": [
        "x2[:,:2]"
      ],
      "metadata": {
        "id": "qGE_GN7auXHm"
      },
      "execution_count": null,
      "outputs": []
    },
    {
      "cell_type": "code",
      "source": [
        "x2[:,-1:]"
      ],
      "metadata": {
        "id": "ZQP7lwTru_dN"
      },
      "execution_count": null,
      "outputs": []
    },
    {
      "cell_type": "code",
      "source": [
        "t7=tf.constant(range(0,24))\n",
        "t7"
      ],
      "metadata": {
        "id": "0nHTzLtwv0sG"
      },
      "execution_count": null,
      "outputs": []
    },
    {
      "cell_type": "code",
      "source": [
        "r_t7=tf.reshape(t7,[3,8])\n",
        "r_t7"
      ],
      "metadata": {
        "id": "oG_uC9Eqv_lQ"
      },
      "execution_count": null,
      "outputs": []
    },
    {
      "cell_type": "code",
      "source": [
        "r2_t7=tf.reshape(t7,[-1,4])\n",
        "r2_t7"
      ],
      "metadata": {
        "id": "8qKQwTLKwIEg"
      },
      "execution_count": null,
      "outputs": []
    },
    {
      "cell_type": "code",
      "source": [
        "r3_t7=tf.reshape(r2_t7,[-1])\n",
        "r3_t7"
      ],
      "metadata": {
        "id": "TlfUQ4HvwVgW"
      },
      "execution_count": null,
      "outputs": []
    },
    {
      "cell_type": "code",
      "source": [
        "r5_t7=tf.reshape(r2_t7,[-1,2,4])\n",
        "r5_t7"
      ],
      "metadata": {
        "id": "y6eMTSsRw6EY"
      },
      "execution_count": null,
      "outputs": []
    },
    {
      "cell_type": "code",
      "source": [
        "r6_t7=tf.reshape(r2_t7,[-1,2,2,2])\n",
        "r6_t7"
      ],
      "metadata": {
        "id": "s-NNixzwxQPN"
      },
      "execution_count": null,
      "outputs": []
    },
    {
      "cell_type": "code",
      "source": [
        "x=tf.Variable(2.0)\n",
        "with tf.GradientTape() as tape:\n",
        "    y=x**2\n",
        "dy_dx = tape.gradient(y,x)\n",
        "dy_dx.numpy()"
      ],
      "metadata": {
        "id": "QSCzmwT9xjcm"
      },
      "execution_count": null,
      "outputs": []
    },
    {
      "cell_type": "code",
      "source": [
        "x1=tf.Variable(2.0)\n",
        "with tf.GradientTape() as t:\n",
        "    y1=x1**2+x1\n",
        "dy1_dx1 = t.gradient(y1,x1)\n",
        "dy1_dx1.numpy()"
      ],
      "metadata": {
        "id": "tTMgdroF0Lem"
      },
      "execution_count": null,
      "outputs": []
    },
    {
      "cell_type": "code",
      "source": [
        "import random\n",
        "\n",
        "g=tf.random.Generator.from_seed(2020)\n",
        "x=g.normal(shape=(10,))\n",
        "y=3*x-2"
      ],
      "metadata": {
        "id": "fwV9eUhr1Eav"
      },
      "execution_count": null,
      "outputs": []
    },
    {
      "cell_type": "code",
      "source": [
        "g=tf.random.Generator.from_seed(2020)\n",
        "x=g.normal(shape=(10,))\n",
        "y=3*x-2"
      ],
      "metadata": {
        "id": "QTAu73ceYXko"
      },
      "execution_count": null,
      "outputs": []
    },
    {
      "cell_type": "code",
      "source": [
        "x"
      ],
      "metadata": {
        "id": "vzj2KHKVYlEH"
      },
      "execution_count": null,
      "outputs": []
    },
    {
      "cell_type": "code",
      "source": [
        "y"
      ],
      "metadata": {
        "id": "K749owVLYlsG"
      },
      "execution_count": null,
      "outputs": []
    },
    {
      "cell_type": "code",
      "source": [
        "def cal_mse(x,y,a,b):\n",
        "    y_pred = a*x+b\n",
        "    squared_error=(y_pred-y)**2\n",
        "    mean_squared_error=tf.reduce_mean(squared_error)\n",
        "\n",
        "    return mean_squared_error"
      ],
      "metadata": {
        "id": "SVdzV_UtY5fn"
      },
      "execution_count": null,
      "outputs": []
    },
    {
      "cell_type": "code",
      "source": [
        "a=tf.Variable(0.0)\n",
        "b=tf.Variable(0.0)\n",
        "\n",
        "EPOCHS=300\n",
        "\n",
        "for epoch in range(1,EPOCHS+1):\n",
        "    with tf.GradientTape() as tape:\n",
        "        mse = cal_mse(x,y,a,b)\n",
        "    if mse<0.0000001:\n",
        "        break\n",
        "    grade = tape.gradient(mse,{'a':a,'b':b})\n",
        "    d_a, d_b = grade['a'], grade['b']\n",
        "    a.assign_sub(d_a*0.05)\n",
        "    b.assign_sub(d_b*0.05)\n",
        "    \n",
        "    if epoch % 20 ==0:\n",
        "        print(\"EPOCH %d - MSE : %.4f - a: %.2f - b: %.2f\"%(epoch,mse,a,b))"
      ],
      "metadata": {
        "id": "oMSjnytBZjBY"
      },
      "execution_count": null,
      "outputs": []
    },
    {
      "cell_type": "code",
      "source": [
        "y_pred = 3*x-2\n",
        "plt.scatter(x,y)\n",
        "plt.plot(x,y_pred,color = 'r')\n",
        "plt.show()"
      ],
      "metadata": {
        "id": "vmyN-5GAdjps"
      },
      "execution_count": null,
      "outputs": []
    },
    {
      "cell_type": "code",
      "source": [
        "g=tf.random.Generator.from_seed(2020)\n",
        "x1 = g.normal(shape=(10,))\n",
        "noise = np.random.normal(0,1,size = (10,))\n",
        "y=3*x-2+noise"
      ],
      "metadata": {
        "id": "fR3VcX8ud5Se"
      },
      "execution_count": null,
      "outputs": []
    },
    {
      "cell_type": "code",
      "source": [
        "tf.Variable(0.0)\n",
        "tf.Variable(0.0)\n",
        "\n",
        "EPOCHS=300\n",
        "\n",
        "for epoch in range(1,EPOCHS+1):\n",
        "    with tf.GradientTape() as tape:\n",
        "        mse = cal_mse(x1,y,a,b)\n",
        "    if mse<0.0000001:\n",
        "        break\n",
        "    grade = tape.gradient(mse,{'a':a,'b':b})\n",
        "    d_a, d_b = grade['a'], grade['b']\n",
        "    a.assign_sub(d_a*0.05)\n",
        "    b.assign_sub(d_b*0.05)\n",
        "    \n",
        "    if epoch % 20 ==0:\n",
        "        print(\"EPOCH %d - MSE : %.4f - a: %.2f - b: %.2f\"%(epoch,mse,a,b))"
      ],
      "metadata": {
        "id": "8p1yzEYYel-o"
      },
      "execution_count": null,
      "outputs": []
    },
    {
      "cell_type": "code",
      "source": [
        "y_pred = 2.97*x-1.76\n",
        "plt.scatter(x1,y)\n",
        "plt.plot(x1,y_pred,color = 'r')\n",
        "plt.show()"
      ],
      "metadata": {
        "id": "5AgXR9PWfQ9n"
      },
      "execution_count": null,
      "outputs": []
    },
    {
      "cell_type": "code",
      "source": [
        "g=tf.random.Generator.from_seed(2020)\n",
        "x1 = g.normal(shape=(10,))\n",
        "noise = np.random.normal(-abs(noise),abs(noise),size= (10,))\n",
        "y=3*x-2+noise"
      ],
      "metadata": {
        "id": "hMLg_WkYfpuR"
      },
      "execution_count": null,
      "outputs": []
    },
    {
      "cell_type": "code",
      "source": [
        "tf.Variable(0.0)\n",
        "tf.Variable(0.0)\n",
        "\n",
        "EPOCHS=300\n",
        "\n",
        "for epoch in range(1,EPOCHS+1):\n",
        "    with tf.GradientTape() as tape:\n",
        "        mse = cal_mse(x1,y,a,b)\n",
        "    if mse<0.0000001:\n",
        "        break\n",
        "    grade = tape.gradient(mse,{'a':a,'b':b})\n",
        "    d_a, d_b = grade['a'], grade['b']\n",
        "    a.assign_sub(d_a*0.05)\n",
        "    b.assign_sub(d_b*0.05)\n",
        "    \n",
        "    if epoch % 20 ==0:\n",
        "        print(\"EPOCH %d - MSE : %.4f - a: %.2f - b: %.2f\"%(epoch,mse,a,b))"
      ],
      "metadata": {
        "id": "NJy11n1hfqZN"
      },
      "execution_count": null,
      "outputs": []
    },
    {
      "cell_type": "code",
      "source": [
        "y_pred = 2.01*x-2.13\n",
        "plt.scatter(x1,y)\n",
        "plt.plot(x1,y_pred,color = 'r')\n",
        "plt.show()"
      ],
      "metadata": {
        "id": "Eqbthu1EgSxu"
      },
      "execution_count": null,
      "outputs": []
    }
  ]
}