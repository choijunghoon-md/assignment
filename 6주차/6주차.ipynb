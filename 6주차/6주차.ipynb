{
  "nbformat": 4,
  "nbformat_minor": 0,
  "metadata": {
    "colab": {
      "private_outputs": true,
      "provenance": []
    },
    "kernelspec": {
      "name": "python3",
      "display_name": "Python 3"
    },
    "language_info": {
      "name": "python"
    }
  },
  "cells": [
    {
      "cell_type": "code",
      "execution_count": null,
      "metadata": {
        "id": "T40a5uQ4fN3R"
      },
      "outputs": [],
      "source": [
        "import tensorflow as tf\n",
        "import numpy as np\n",
        "import matplotlib.pyplot as plt\n",
        "import random"
      ]
    },
    {
      "cell_type": "code",
      "source": [
        "g=tf.random.Generator.from_seed(2020)\n",
        "x=g.normal(shape=(10,))\n",
        "y=3*x-2"
      ],
      "metadata": {
        "id": "cGiZilm2fWI9"
      },
      "execution_count": null,
      "outputs": []
    },
    {
      "cell_type": "code",
      "source": [
        "x"
      ],
      "metadata": {
        "id": "X4Njz2SyggbL"
      },
      "execution_count": null,
      "outputs": []
    },
    {
      "cell_type": "code",
      "source": [
        "y"
      ],
      "metadata": {
        "id": "ZCLY7HdigmvT"
      },
      "execution_count": null,
      "outputs": []
    },
    {
      "cell_type": "code",
      "source": [
        "def cal_mse(x,y,a,b):\n",
        "    y_pred = a*x+b\n",
        "    squared_error=(y_pred-y)**2\n",
        "    mean_squared_error=tf.reduce_mean(squared_error)\n",
        "\n",
        "    return mean_squared_error"
      ],
      "metadata": {
        "id": "BLYyLvCxgnLV"
      },
      "execution_count": null,
      "outputs": []
    },
    {
      "cell_type": "code",
      "source": [
        "a=tf.Variable(0.0)\n",
        "b=tf.Variable(0.0)\n",
        "\n",
        "EPOCHS=500\n",
        "\n",
        "for epoch in range(1,EPOCHS+1):\n",
        "    with tf.GradientTape() as tape:\n",
        "        mse = cal_mse(x,y,a,b)\n",
        "    if mse<0.0000001:\n",
        "        break\n",
        "    grade = tape.gradient(mse,{'a':a,'b':b})\n",
        "    d_a, d_b = grade['a'], grade['b']\n",
        "    a.assign_sub(d_a*0.1)\n",
        "    b.assign_sub(d_b*0.1)\n",
        "    \n",
        "    if epoch % 20 ==0:\n",
        "        print(\"EPOCH %d - MSE : %.6f - a: %.2f - b: %.2f\"%(epoch,mse,a,b))"
      ],
      "metadata": {
        "id": "u5-a1VTPgnWg"
      },
      "execution_count": null,
      "outputs": []
    },
    {
      "cell_type": "code",
      "source": [
        "y_pred = 3*x-2\n",
        "plt.scatter(x,y)\n",
        "plt.plot(x,y_pred,color = 'r')\n",
        "plt.show()"
      ],
      "metadata": {
        "id": "vaXIzuTcgn7g"
      },
      "execution_count": null,
      "outputs": []
    },
    {
      "cell_type": "code",
      "source": [
        "a=tf.Variable(0.0)\n",
        "b=tf.Variable(0.0)\n",
        "\n",
        "EPOCHS=500\n",
        "\n",
        "for epoch in range(1,EPOCHS+1):\n",
        "    with tf.GradientTape() as tape:\n",
        "        mse = cal_mse(x,y,a,b)\n",
        "    if mse<0.0000001:\n",
        "        break\n",
        "    grade = tape.gradient(mse,{'a':a,'b':b})\n",
        "    d_a, d_b = grade['a'], grade['b']\n",
        "    a.assign_sub(d_a*0.01)\n",
        "    b.assign_sub(d_b*0.01)\n",
        "    \n",
        "    if epoch % 20 ==0:\n",
        "        print(\"EPOCH %d - MSE : %.6f - a: %.2f - b: %.2f\"%(epoch,mse,a,b))"
      ],
      "metadata": {
        "id": "lxDy_mkClnD4"
      },
      "execution_count": null,
      "outputs": []
    },
    {
      "cell_type": "code",
      "source": [
        "y_pred =2.92*x-1.92\n",
        "plt.scatter(x,y)\n",
        "plt.plot(x,y_pred,color = 'r')\n",
        "plt.show()"
      ],
      "metadata": {
        "id": "E3PwPTAggoR_"
      },
      "execution_count": null,
      "outputs": []
    },
    {
      "cell_type": "code",
      "source": [
        "a=tf.Variable(0.0)\n",
        "b=tf.Variable(0.0)\n",
        "\n",
        "EPOCHS=500\n",
        "\n",
        "for epoch in range(1,EPOCHS+1):\n",
        "    with tf.GradientTape() as tape:\n",
        "        mse = cal_mse(x,y,a,b)\n",
        "    if mse<0.0000001:\n",
        "        break\n",
        "    grade = tape.gradient(mse,{'a':a,'b':b})\n",
        "    d_a, d_b = grade['a'], grade['b']\n",
        "    a.assign_sub(d_a*0.001)\n",
        "    b.assign_sub(d_b*0.001)\n",
        "    \n",
        "    if epoch % 20 ==0:\n",
        "        print(\"EPOCH %d - MSE : %.6f - a: %.2f - b: %.2f\"%(epoch,mse,a,b))"
      ],
      "metadata": {
        "id": "EL0pXZTQgoik"
      },
      "execution_count": null,
      "outputs": []
    },
    {
      "cell_type": "code",
      "source": [
        "y_pred = 1.13*x-0.30\n",
        "plt.scatter(x,y)\n",
        "plt.plot(x,y_pred,color = 'r')\n",
        "plt.show()"
      ],
      "metadata": {
        "id": "vgBpk4olgo4j"
      },
      "execution_count": null,
      "outputs": []
    },
    {
      "cell_type": "code",
      "source": [
        "a=tf.Variable(0.0)\n",
        "b=tf.Variable(0.0)\n",
        "\n",
        "EPOCHS=5\n",
        "\n",
        "for epoch in range(1,EPOCHS+1):\n",
        "    with tf.GradientTape() as tape:\n",
        "        mse = cal_mse(x,y,a,b)\n",
        "    if mse<0.0000001:\n",
        "        break\n",
        "    grade = tape.gradient(mse,{'a':a,'b':b})\n",
        "    d_a, d_b = grade['a'], grade['b']\n",
        "    a.assign_sub(d_a*0.05)\n",
        "    b.assign_sub(d_b*0.05)\n",
        "    \n",
        "    if epoch % 20 ==0:\n",
        "        print(\"EPOCH %d - MSE : %.4f - a: %.2f - b: %.2f\"%(epoch,mse,a,b))"
      ],
      "metadata": {
        "id": "bx7ZXIdDgo8L"
      },
      "execution_count": null,
      "outputs": []
    },
    {
      "cell_type": "code",
      "source": [
        "a=tf.Variable(0.0)\n",
        "b=tf.Variable(0.0)\n",
        "\n",
        "EPOCHS=50\n",
        "\n",
        "for epoch in range(1,EPOCHS+1):\n",
        "    with tf.GradientTape() as tape:\n",
        "        mse = cal_mse(x,y,a,b)\n",
        "    if mse<0.0000001:\n",
        "        break\n",
        "    grade = tape.gradient(mse,{'a':a,'b':b})\n",
        "    d_a, d_b = grade['a'], grade['b']\n",
        "    a.assign_sub(d_a*0.05)\n",
        "    b.assign_sub(d_b*0.05)\n",
        "    \n",
        "    if epoch % 20 ==0:\n",
        "        print(\"EPOCH %d - MSE : %.4f - a: %.2f - b: %.2f\"%(epoch,mse,a,b))"
      ],
      "metadata": {
        "id": "0HPskhBlgpBb"
      },
      "execution_count": null,
      "outputs": []
    },
    {
      "cell_type": "code",
      "source": [
        "a=tf.Variable(0.0)\n",
        "b=tf.Variable(0.0)\n",
        "\n",
        "EPOCHS=10000\n",
        "\n",
        "for epoch in range(1,EPOCHS+1):\n",
        "    with tf.GradientTape() as tape:\n",
        "        mse = cal_mse(x,y,a,b)\n",
        "    if mse<0.0000001:\n",
        "        break\n",
        "    grade = tape.gradient(mse,{'a':a,'b':b})\n",
        "    d_a, d_b = grade['a'], grade['b']\n",
        "    a.assign_sub(d_a*0.001)\n",
        "    b.assign_sub(d_b*0.001)\n",
        "    \n",
        "    if epoch % 20 ==0:\n",
        "        print(\"EPOCH %d - MSE : %.4f - a: %.2f - b: %.2f\"%(epoch,mse,a,b))"
      ],
      "metadata": {
        "id": "1xkXndRsmKnu"
      },
      "execution_count": null,
      "outputs": []
    },
    {
      "cell_type": "code",
      "source": [
        "g=tf.random.Generator.from_seed(2020)\n",
        "x1 = g.normal(shape=(10,))\n",
        "noise = np.random.normal(0,1,size = (10,))\n",
        "y=3*x1-2+noise"
      ],
      "metadata": {
        "id": "DiaQP47QmqJW"
      },
      "execution_count": null,
      "outputs": []
    },
    {
      "cell_type": "code",
      "source": [
        "tf.Variable(0.0)\n",
        "tf.Variable(0.0)\n",
        "\n",
        "EPOCHS=5000\n",
        "mse_last=100.0\n",
        "\n",
        "for epoch in range(1,EPOCHS+1):\n",
        "    with tf.GradientTape() as tape:\n",
        "        mse = cal_mse(x,y,a,b)\n",
        "    if mse-mse_last==0  and EPOCHS>10:\n",
        "        break\n",
        "    grade = tape.gradient(mse,{'a':a,'b':b})\n",
        "    d_a, d_b = grade['a'], grade['b']\n",
        "    a.assign_sub(d_a*0.05)\n",
        "    b.assign_sub(d_b*0.05)\n",
        "    mse_last=mse\n",
        "    if epoch % 10 ==0:\n",
        "        print(\"EPOCH %d - MSE : %.4f - a: %.2f - b: %.2f\"%(epoch,mse,a,b))"
      ],
      "metadata": {
        "id": "rJPp-t4Bo5vo"
      },
      "execution_count": null,
      "outputs": []
    },
    {
      "cell_type": "code",
      "source": [
        "y_pred = 3.10*x-2.39\n",
        "plt.scatter(x,y)\n",
        "plt.plot(x,y_pred,color = 'r')\n",
        "plt.show()"
      ],
      "metadata": {
        "id": "Dn46Kjj8pJqG"
      },
      "execution_count": null,
      "outputs": []
    },
    {
      "cell_type": "code",
      "source": [
        "xx=tf.range(-5,5,0.1)\n",
        "yy=tf.nn.sigmoid(xx)\n",
        "plt.plot(xx,yy,'r-')\n",
        "plt.show()"
      ],
      "metadata": {
        "id": "xhNpRmcuqSS2"
      },
      "execution_count": null,
      "outputs": []
    },
    {
      "cell_type": "code",
      "source": [
        "with tf.GradientTape() as tape:\n",
        "    tape.watch(xx)\n",
        "    yy = tf.sigmoid(xx)\n",
        "dy = tape.gradient(yy,xx)"
      ],
      "metadata": {
        "id": "cFqt34QHq2dH"
      },
      "execution_count": null,
      "outputs": []
    },
    {
      "cell_type": "code",
      "source": [
        "plt.plot(xx,yy,\"r-\")\n",
        "plt.plot(xx,dy,\"b--\")\n",
        "plt.show()"
      ],
      "metadata": {
        "id": "eaUHrzeRr5-O"
      },
      "execution_count": null,
      "outputs": []
    },
    {
      "cell_type": "code",
      "source": [
        "y=tf.nn.sigmoid(x)\n",
        "plt.plot(x,y,'r-')\n",
        "plt.show()"
      ],
      "metadata": {
        "id": "fXbfPkgnrmkW"
      },
      "execution_count": null,
      "outputs": []
    },
    {
      "cell_type": "code",
      "source": [
        "def make_linear(w=0.5, b=0.8, size=5, noise=1.0):\n",
        "    x=np.random.rand(size)\n",
        "    y=w*x+b\n",
        "    noise = np.random.uniform(-abs(noise),abs(noise),size=y.shape)\n",
        "    yy=y+noise\n",
        "    plt.figure(figsize=(7,5))\n",
        "    plt.plot(x,y,color='r',label=f'y={w}*x+{b}')\n",
        "    plt.scatter(x,yy,label='data')\n",
        "    plt.legend(fontsize=10)\n",
        "    plt.show()\n",
        "    print(f'w:{w},b:{b}')\n",
        "    return x,yy\n",
        "\n",
        "x,y = make_linear(w=0.3,b=0.5, size = 100, noise = 0.1)"
      ],
      "metadata": {
        "id": "u7yf1CZNvstO"
      },
      "execution_count": null,
      "outputs": []
    },
    {
      "cell_type": "code",
      "source": [
        "x=np.arange(1,6)\n",
        "y1= 3 * x + 2\n",
        "print(x,y1)"
      ],
      "metadata": {
        "id": "Bei-3sOhzZoY"
      },
      "execution_count": null,
      "outputs": []
    },
    {
      "cell_type": "code",
      "source": [
        "type(x)"
      ],
      "metadata": {
        "id": "KPnK1jW11Cmw"
      },
      "execution_count": null,
      "outputs": []
    },
    {
      "cell_type": "code",
      "source": [
        "type(y1)"
      ],
      "metadata": {
        "id": "CZ8fPabE1Eyf"
      },
      "execution_count": null,
      "outputs": []
    },
    {
      "cell_type": "code",
      "source": [
        "model1=tf.keras.Sequential([\n",
        "    tf.keras.layers.Dense(1,input_shape=[1]),\n",
        "    ])"
      ],
      "metadata": {
        "id": "CRx5yPEw1HW3"
      },
      "execution_count": null,
      "outputs": []
    },
    {
      "cell_type": "code",
      "source": [
        "model1.summary()"
      ],
      "metadata": {
        "id": "nltxngDe1YPe"
      },
      "execution_count": null,
      "outputs": []
    },
    {
      "cell_type": "code",
      "source": [
        "model1.compile(optimizer='sgd',loss = 'mse',metrics=['mae'])"
      ],
      "metadata": {
        "id": "KXsjIFiu1iPd"
      },
      "execution_count": null,
      "outputs": []
    },
    {
      "cell_type": "code",
      "source": [
        "history1 = model1.fit(x,y1,epochs=1200)"
      ],
      "metadata": {
        "id": "DT_4LMkc1wUG"
      },
      "execution_count": null,
      "outputs": []
    },
    {
      "cell_type": "code",
      "source": [
        "plt.plot(history1.history['loss'],label='loss')\n",
        "plt.plot(history1.history['mae'],label='mae')\n",
        "plt.xlim(-1,20)\n",
        "plt.title('Loss')\n",
        "plt.legend()\n",
        "plt.show()"
      ],
      "metadata": {
        "id": "8p1T9Nl92Dpa"
      },
      "execution_count": null,
      "outputs": []
    },
    {
      "cell_type": "code",
      "source": [
        "model1.predict([10])"
      ],
      "metadata": {
        "id": "zG3GyVJy3c9v"
      },
      "execution_count": null,
      "outputs": []
    }
  ]
}