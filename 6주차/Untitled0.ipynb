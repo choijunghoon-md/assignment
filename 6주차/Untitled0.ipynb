{
  "nbformat": 4,
  "nbformat_minor": 0,
  "metadata": {
    "colab": {
      "private_outputs": true,
      "provenance": []
    },
    "kernelspec": {
      "name": "python3",
      "display_name": "Python 3"
    },
    "language_info": {
      "name": "python"
    }
  },
  "cells": [
    {
      "cell_type": "code",
      "execution_count": null,
      "metadata": {
        "id": "NHcQuluj7JOZ"
      },
      "outputs": [],
      "source": [
        "import tensorflow as tf\n",
        "import numpy as np\n",
        "import matplotlib.pyplot as plt\n",
        "import random"
      ]
    },
    {
      "cell_type": "code",
      "source": [
        "g=tf.random.Generator.from_seed(2020)\n",
        "x=g.normal(shape=(10,))\n",
        "y=3*x-2"
      ],
      "metadata": {
        "id": "8Dkld7yY7KaU"
      },
      "execution_count": null,
      "outputs": []
    },
    {
      "cell_type": "code",
      "source": [
        "def cal_mse(x,y,a,b):\n",
        "    y_pred = a*x+b\n",
        "    squared_error=(y_pred-y)**2\n",
        "    mean_squared_error=tf.reduce_mean(squared_error)\n",
        "\n",
        "    return mean_squared_error"
      ],
      "metadata": {
        "id": "ISZ_dUe_7MsB"
      },
      "execution_count": null,
      "outputs": []
    },
    {
      "cell_type": "code",
      "source": [
        "g=tf.random.Generator.from_seed(2020)\n",
        "x1 = g.normal(shape=(10,))\n",
        "noise = np.random.normal(0,1,size = (10,))\n",
        "y=3*x1-2+noise"
      ],
      "metadata": {
        "id": "dUmT_J8z7RFa"
      },
      "execution_count": null,
      "outputs": []
    },
    {
      "cell_type": "code",
      "source": [
        "a=tf.Variable(0.0)\n",
        "b=tf.Variable(0.0)\n",
        "\n",
        "EPOCHS=5000\n",
        "mse_last=100.0\n",
        "\n",
        "for epoch in range(1,EPOCHS+1):\n",
        "    with tf.GradientTape() as tape:\n",
        "        mse = cal_mse(x,y,a,b)\n",
        "    if mse-mse_last==0  and EPOCHS>10:\n",
        "        break\n",
        "    grade = tape.gradient(mse,{'a':a,'b':b})\n",
        "    d_a, d_b = grade['a'], grade['b']\n",
        "    a.assign_sub(d_a*0.05)\n",
        "    b.assign_sub(d_b*0.05)\n",
        "    mse_last=mse\n",
        "    if epoch % 10 ==0:\n",
        "        print(\"EPOCH %d - MSE : %.4f - a: %.2f - b: %.2f\"%(epoch,mse,a,b))"
      ],
      "metadata": {
        "id": "s0c5cioR7d_r"
      },
      "execution_count": null,
      "outputs": []
    },
    {
      "cell_type": "code",
      "source": [
        "y_pred = 2.51*x-1.77\n",
        "plt.scatter(x,y)\n",
        "plt.plot(x,y_pred,color = 'r')\n",
        "plt.show()"
      ],
      "metadata": {
        "id": "u5uF5lM-7qIl"
      },
      "execution_count": null,
      "outputs": []
    }
  ]
}