{
  "nbformat": 4,
  "nbformat_minor": 0,
  "metadata": {
    "colab": {
      "private_outputs": true,
      "provenance": []
    },
    "kernelspec": {
      "name": "python3",
      "display_name": "Python 3"
    },
    "language_info": {
      "name": "python"
    }
  },
  "cells": [
    {
      "cell_type": "code",
      "execution_count": null,
      "metadata": {
        "id": "IDvXrFf438O6"
      },
      "outputs": [],
      "source": [
        "import tensorflow as tf\n",
        "import matplotlib.pyplot as plt"
      ]
    },
    {
      "cell_type": "code",
      "source": [
        "mnist = tf.keras.datasets.mnist\n",
        "(x_train,y_train),(x_valid,y_valid) = mnist.load_data()\n",
        "\n",
        "def plot_image(data, idx):\n",
        "    plt.figure(figsize = (5,5))\n",
        "    plt.imshow(data[idx], cmap = 'gray')\n",
        "    plt.axis('off')\n",
        "    plt.show()\n",
        "plot_image(x_train, 0)"
      ],
      "metadata": {
        "id": "vB6XBYP94Pzm"
      },
      "execution_count": null,
      "outputs": []
    },
    {
      "cell_type": "code",
      "source": [
        "print(x_train.min(), x_train.max())\n",
        "print(x_valid.min(), x_valid.max())"
      ],
      "metadata": {
        "id": "0FXDk0LW4ScG"
      },
      "execution_count": null,
      "outputs": []
    },
    {
      "cell_type": "code",
      "source": [
        "x_train = x_train/x_train.max()\n",
        "x_valid = x_valid/x_valid.max()"
      ],
      "metadata": {
        "id": "Pg-y7mJA4Vb9"
      },
      "execution_count": null,
      "outputs": []
    },
    {
      "cell_type": "code",
      "source": [
        "print(x_train.min(), x_train.max())\n",
        "print(x_valid.min(), x_valid.max())"
      ],
      "metadata": {
        "id": "pA6Lg_Wk4Xlv"
      },
      "execution_count": null,
      "outputs": []
    },
    {
      "cell_type": "code",
      "source": [
        "x_train.shape"
      ],
      "metadata": {
        "id": "9SRvZwqF4dLe"
      },
      "execution_count": null,
      "outputs": []
    },
    {
      "cell_type": "code",
      "source": [
        "x_train_in = x_train[..., tf.newaxis]\n",
        "x_valid_in = x_valid[..., tf.newaxis]\n",
        "print(x_train_in.shape, x_valid_in.shape)"
      ],
      "metadata": {
        "id": "cYXRJ58b4jIG"
      },
      "execution_count": null,
      "outputs": []
    },
    {
      "cell_type": "code",
      "source": [
        "model = tf.keras.Sequential([\n",
        "    tf.keras.layers.Conv2D(32,(3,3), activation = 'relu', input_shape = (28,28,1),name = 'conv'),\n",
        "    tf.keras.layers.MaxPool2D((2,2), name = 'pool'),\n",
        "    tf.keras.layers.Flatten(),\n",
        "    tf.keras.layers.Dense(10,activation = 'softmax')\n",
        "])\n",
        "\n",
        "model.compile(optimizer='adam',loss = 'sparse_categorical_crossentropy', metrics=['accuracy'])\n",
        "history = model.fit(x_train,y_train, validation_data = (x_valid, y_valid), epochs = 10)"
      ],
      "metadata": {
        "id": "zIE-4RN54k1O"
      },
      "execution_count": null,
      "outputs": []
    },
    {
      "cell_type": "code",
      "source": [
        "model.summary()"
      ],
      "metadata": {
        "id": "huuGVkgp4qG6"
      },
      "execution_count": null,
      "outputs": []
    },
    {
      "cell_type": "code",
      "source": [
        "model.evaluate(x_valid_in, y_valid)"
      ],
      "metadata": {
        "id": "Nf8XWhP84tF1"
      },
      "execution_count": null,
      "outputs": []
    },
    {
      "cell_type": "code",
      "source": [
        "loss, val_loss = history.history['loss'], history.history['val_loss']\n",
        "acc, val_acc = history.history['accuracy'], history.history['val_accuracy']\n",
        "epoch = 10\n",
        "fig, axes = plt.subplots(1,2,figsize = (12,4))\n",
        "axes[0].plot(range(1, epoch+1), loss, label = 'Training')\n",
        "axes[0].plot(range(1, epoch+1), val_loss, label = 'Validation')\n",
        "axes[0].legend(loc = 'best')\n",
        "axes[0].set_title('Loss')\n",
        "\n",
        "axes[1].plot(range(1, epoch+1), acc, label = 'Training')\n",
        "axes[1].plot(range(1, epoch+1), val_acc, label = 'Validation')\n",
        "axes[1].legend(loc = 'best')\n",
        "axes[1].set_title('Accuracy')\n",
        "\n",
        "plt.show()"
      ],
      "metadata": {
        "id": "cWdvZLUa4u2-"
      },
      "execution_count": null,
      "outputs": []
    },
    {
      "cell_type": "code",
      "source": [
        "model.layers"
      ],
      "metadata": {
        "id": "HkYhTLfz_qZD"
      },
      "execution_count": null,
      "outputs": []
    },
    {
      "cell_type": "code",
      "source": [
        "model.layers[0].weights"
      ],
      "metadata": {
        "id": "ZRUP1pbnAUhf"
      },
      "execution_count": null,
      "outputs": []
    },
    {
      "cell_type": "code",
      "source": [
        "model.layers[0].bias"
      ],
      "metadata": {
        "id": "8AiMrVRiAW3l"
      },
      "execution_count": null,
      "outputs": []
    },
    {
      "cell_type": "code",
      "source": [
        "model.layers[0].kernel"
      ],
      "metadata": {
        "id": "CpZSXg0PAYhj"
      },
      "execution_count": null,
      "outputs": []
    },
    {
      "cell_type": "code",
      "source": [
        "model.layers[0].bias"
      ],
      "metadata": {
        "id": "xRDhjUNJAaMh"
      },
      "execution_count": null,
      "outputs": []
    },
    {
      "cell_type": "code",
      "source": [
        "model.get_layer('conv')"
      ],
      "metadata": {
        "id": "xYQBV9CHAeCU"
      },
      "execution_count": null,
      "outputs": []
    },
    {
      "cell_type": "code",
      "source": [
        "activator = tf.keras.Model(inputs=model.input,outputs = [layer.output for layer in model.layers[:2]])"
      ],
      "metadata": {
        "id": "l9tWlfbFAhFR"
      },
      "execution_count": null,
      "outputs": []
    },
    {
      "cell_type": "code",
      "source": [
        "activations = activator.predict(x_train_in[0][tf.newaxis, ...])\n",
        "len(activations)"
      ],
      "metadata": {
        "id": "Std4BZxYArOB"
      },
      "execution_count": null,
      "outputs": []
    },
    {
      "cell_type": "code",
      "source": [
        "conv = activations[0]\n",
        "conv.shape"
      ],
      "metadata": {
        "id": "nVTZX-NzAsxQ"
      },
      "execution_count": null,
      "outputs": []
    },
    {
      "cell_type": "code",
      "source": [
        "fig, axes = plt.subplots(4,8)\n",
        "fig.set_size_inches(10, 5)\n",
        "\n",
        "for i in range(32):\n",
        "    ax = axes[i//8, i%8]\n",
        "    ax.imshow(conv[0, :, :, i], cmap = 'viridis')\n",
        "    ax.set_title('kernel %s'%str(i), fontsize=10)\n",
        "    plt.setp( axes[i//8, i%8].get_xticklabels(), visible=False)\n",
        "    plt.setp( axes[i//8, i%8].get_yticklabels(), visible=False)\n",
        "\n",
        "plt.tight_layout()\n",
        "plt.show()"
      ],
      "metadata": {
        "id": "kO3qssurBM4S"
      },
      "execution_count": null,
      "outputs": []
    },
    {
      "cell_type": "code",
      "source": [
        "pooling = activations[1]\n",
        "pooling.shape"
      ],
      "metadata": {
        "id": "8gLk0LLtBO8Z"
      },
      "execution_count": null,
      "outputs": []
    },
    {
      "cell_type": "code",
      "source": [
        "fig, axes = plt.subplots(4,8)\n",
        "fig.set_size_inches(10, 5)\n",
        "\n",
        "for i in range(32):\n",
        "    ax = axes[i//8, i%8]\n",
        "    ax.imshow(conv[0, :, :, i], cmap = 'viridis')\n",
        "    ax.set_title('kernel %s'%str(i), fontsize=10)\n",
        "    plt.setp( axes[i//8, i%8].get_xticklabels(), visible=False)\n",
        "    plt.setp( axes[i//8, i%8].get_yticklabels(), visible=False)\n",
        "\n",
        "plt.tight_layout()\n",
        "plt.show()"
      ],
      "metadata": {
        "id": "rH96zlTBBQ9_"
      },
      "execution_count": null,
      "outputs": []
    },
    {
      "cell_type": "code",
      "source": [
        "import tensorflow as tf\n",
        "import tensorflow_hub as tfhub"
      ],
      "metadata": {
        "id": "uNT2y6auBUJJ"
      },
      "execution_count": null,
      "outputs": []
    },
    {
      "cell_type": "code",
      "source": [
        "img_path = 'https://upload.wikimedia.org/wikipedia/commons/thumb/c/c4/Gangnam_Seoul_January_2009.jpg/1280px-Gangnam_Seoul_January_2009.jpg'\n",
        "img = tf.keras.utils.get_file(fname='gangnam', origin = img_path)\n",
        "img = tf.io.read_file(img) \n",
        "img = tf.image.decode_jpeg(img, channels=3)\n",
        "img = tf.image.convert_image_dtype(img, tf.float32) \n",
        "\n",
        "import matplotlib.pylab as plt\n",
        "plt.figure(figsize=(15, 10))\n",
        "plt.imshow(img) "
      ],
      "metadata": {
        "id": "pZj89N9mBcIh"
      },
      "execution_count": null,
      "outputs": []
    },
    {
      "cell_type": "code",
      "source": [
        "img.shape"
      ],
      "metadata": {
        "id": "I6FJIwQhBiYx"
      },
      "execution_count": null,
      "outputs": []
    },
    {
      "cell_type": "code",
      "source": [
        "img_input = tf.expand_dims(img, 0)\n",
        "img_input.shape"
      ],
      "metadata": {
        "id": "wdFQ8NS_BnF2"
      },
      "execution_count": null,
      "outputs": []
    },
    {
      "cell_type": "code",
      "source": [
        "#드라이브에 넣어도 안올라가지고 이미지 긁어와도 안올라가네요 뭐지????\n",
        "model = tfhub.load(\"https://tfhub.dev/google/faster_rcnn/openimages_v4/inception_resnet_v2/1\")"
      ],
      "metadata": {
        "id": "_evQNiK-Bph1"
      },
      "execution_count": null,
      "outputs": []
    },
    {
      "cell_type": "code",
      "source": [
        "from google.colab import drive\n",
        "drive.mount('/content/drive')"
      ],
      "metadata": {
        "id": "Pq55x3-mFiX7"
      },
      "execution_count": null,
      "outputs": []
    },
    {
      "cell_type": "code",
      "source": [
        "model.signatures.keys()"
      ],
      "metadata": {
        "id": "6iKsVAAsCFM9"
      },
      "execution_count": null,
      "outputs": []
    },
    {
      "cell_type": "code",
      "source": [
        "obj_detector = model.signatures['default']\n",
        "obj_detector"
      ],
      "metadata": {
        "id": "YUnEKYbjCHC2"
      },
      "execution_count": null,
      "outputs": []
    },
    {
      "cell_type": "code",
      "source": [
        "result = obj_detector(img_input)\n",
        "result.keys()"
      ],
      "metadata": {
        "id": "9-F-NCHwCLLn"
      },
      "execution_count": null,
      "outputs": []
    },
    {
      "cell_type": "code",
      "source": [
        "type(result)"
      ],
      "metadata": {
        "id": "TzcxijJxCN-g"
      },
      "execution_count": null,
      "outputs": []
    },
    {
      "cell_type": "code",
      "source": [
        "labels = result[\"detection_class_labels\"]\n",
        "names = result['detection_class_names']"
      ],
      "metadata": {
        "id": "Xg_hDQ9UCQBf"
      },
      "execution_count": null,
      "outputs": []
    },
    {
      "cell_type": "code",
      "source": [
        "len(result[\"detection_scores\"])"
      ],
      "metadata": {
        "id": "8yZDJXcICR-Y"
      },
      "execution_count": null,
      "outputs": []
    },
    {
      "cell_type": "code",
      "source": [
        "result.keys()"
      ],
      "metadata": {
        "id": "QU_h08gXCTkb"
      },
      "execution_count": null,
      "outputs": []
    },
    {
      "cell_type": "code",
      "source": [
        "for key, value in result.items():\n",
        "    print(key, value)"
      ],
      "metadata": {
        "id": "vqJZKbrHCVgn"
      },
      "execution_count": null,
      "outputs": []
    },
    {
      "cell_type": "code",
      "source": [
        "img_height, img_width = img.shape[0], img.shape[1]\n",
        "obj_to_detect = 10\n",
        "for i in range(min(obj_to_detect, boxes.shape[0])):\n",
        "    if scores[i] >= 0.2:\n",
        "        (ymax, xmin, ymin, xmax) = (boxes[i][0]*img_height, boxes[i][1]*img_width,\n",
        "                                    boxes[i][2]*img_height, boxes[i][3]*img_width)\n",
        "        print(\"{} : ({},{},{},{})\". format(scores[i], ymax, xmin, ymin, xmax))"
      ],
      "metadata": {
        "id": "JDgvggEsCXbn"
      },
      "execution_count": null,
      "outputs": []
    },
    {
      "cell_type": "code",
      "source": [
        "boxes = result[\"detection_boxes\"] \n",
        "labels = result[\"detection_class_entities\"]\n",
        "scores = result[\"detection_scores\"]\n",
        "\n",
        "img_height, img_width = img.shape[0], img.shape[1]\n",
        "\n",
        "obj_to_detect = 10\n",
        "\n",
        "plt.figure(figsize = (15, 10))\n",
        "for i in range(min(obj_to_detect, boxes.shape[0])):\n",
        "    if scores[i] >= 0.2:\n",
        "        (ymax, xmin, ymin, xmax) = (boxes[i][0]*img_height, boxes[i][1]*img_width,boxes[i][2]*img_height, boxes[i][3]*img_width)\n",
        "        \n",
        "        plt.imshow(img)\n",
        "        plt.plot([xmin, xmax, xmax, xmin, xmin], [ymin, ymin, ymax, ymax, ymin],color = 'yellow', linewidth=2)\n",
        "        \n",
        "        class_name = labels[i].numpy().decode('utf-8')\n",
        "        infer_score = str(scores[i].numpy()*100)\n",
        "        annotation = \"{}: {}%\", format(class_name, infer_score)\n",
        "        plt.text(xmin+10, ymax+20, annotation,color='white', backgroundcolor='blue', fontsize=10)\n",
        "     "
      ],
      "metadata": {
        "id": "riSHPRzHCZbP"
      },
      "execution_count": null,
      "outputs": []
    }
  ]
}
