{
  "nbformat": 4,
  "nbformat_minor": 0,
  "metadata": {
    "colab": {
      "private_outputs": true,
      "provenance": []
    },
    "kernelspec": {
      "name": "python3",
      "display_name": "Python 3"
    },
    "language_info": {
      "name": "python"
    }
  },
  "cells": [
    {
      "cell_type": "code",
      "execution_count": null,
      "metadata": {
        "id": "ysUmPzSxjJOZ"
      },
      "outputs": [],
      "source": [
        "import tensorflow as tf\n",
        "import numpy as np\n",
        "import matplotlib.pyplot as plt\n",
        "import random"
      ]
    },
    {
      "cell_type": "code",
      "source": [
        "mnist = tf.keras.datasets.mnist\n",
        "(x_train,y_train),(x_test,y_test)= mnist.load_data()\n",
        "print(x_train.shape,y_train.shape)\n",
        "print(x_test.shape,y_test.shape)"
      ],
      "metadata": {
        "id": "8TEpJ7rejSfU"
      },
      "execution_count": null,
      "outputs": []
    },
    {
      "cell_type": "code",
      "source": [
        "import sys\n",
        "sys.path.insert(0,'..')"
      ],
      "metadata": {
        "id": "Sun5jzYdymDJ"
      },
      "execution_count": null,
      "outputs": []
    },
    {
      "cell_type": "code",
      "source": [],
      "metadata": {
        "id": "0vD4TZ4_ywDZ"
      },
      "execution_count": null,
      "outputs": []
    },
    {
      "cell_type": "code",
      "source": [
        "fig,axes=plt.subplots(3,5)\n",
        "fig.set_size_inches(8,5)\n",
        "\n",
        "for i in range(15):\n",
        "    ax=axes[i//5, i%5]\n",
        "    ax.imshow(x_train[i], cmap = 'gray')\n",
        "    ax.axis('off')\n",
        "    ax.set_title(str(y_train[i]))\n",
        "\n",
        "plt.tight_layout()\n",
        "plt.show()"
      ],
      "metadata": {
        "id": "5HsrNh4ywqkX"
      },
      "execution_count": null,
      "outputs": []
    },
    {
      "cell_type": "code",
      "source": [
        "x_train[0,10:15,10:15]"
      ],
      "metadata": {
        "id": "MzhV_5QHyKB-"
      },
      "execution_count": null,
      "outputs": []
    },
    {
      "cell_type": "code",
      "source": [
        "x_train_n=x_train/x_train.max()"
      ],
      "metadata": {
        "id": "lWuhWk7OzITt"
      },
      "execution_count": null,
      "outputs": []
    },
    {
      "cell_type": "code",
      "source": [
        "x_train_n[0,10:15,10:15]"
      ],
      "metadata": {
        "id": "xYxed7exzRh1"
      },
      "execution_count": null,
      "outputs": []
    },
    {
      "cell_type": "code",
      "source": [
        "x_train = x_train / x_train.max()"
      ],
      "metadata": {
        "id": "6cY7Nd6izcZm"
      },
      "execution_count": null,
      "outputs": []
    },
    {
      "cell_type": "code",
      "source": [
        "x_train.reshape(60000,-1).shape"
      ],
      "metadata": {
        "id": "VuNfsdpE0AWn"
      },
      "execution_count": null,
      "outputs": []
    },
    {
      "cell_type": "code",
      "source": [
        "tf.keras.layers.Flatten()(x_train).shape"
      ],
      "metadata": {
        "id": "swD8hoGu0F82"
      },
      "execution_count": null,
      "outputs": []
    },
    {
      "cell_type": "code",
      "source": [
        "tf.keras.layers.Dense(128, activation='relu')"
      ],
      "metadata": {
        "id": "7VNU-bPm0OpG"
      },
      "execution_count": null,
      "outputs": []
    },
    {
      "cell_type": "code",
      "source": [
        "tf.keras.layers.Dense(1,activation='sigmoid')"
      ],
      "metadata": {
        "id": "7_Nru8Lt0X8G"
      },
      "execution_count": null,
      "outputs": []
    },
    {
      "cell_type": "code",
      "source": [
        "tf.keras.layers.Dense(10,activation='softmax')"
      ],
      "metadata": {
        "id": "j54-2p2f03YU"
      },
      "execution_count": null,
      "outputs": []
    },
    {
      "cell_type": "code",
      "source": [
        "model=tf.keras.Sequential([\n",
        "    tf.keras.layers.Conv2D(32,(3,3),activation='relu',\n",
        "                           input_shape=(28,28,1),name='conv'),\n",
        "    tf.keras.layers.MaxPooling2D((2,2),name='pool'),\n",
        "    tf.keras.layers.Flatten(),\n",
        "    tf.keras.layers.Dense(10,activation='softmax')\n",
        "])"
      ],
      "metadata": {
        "id": "IQJs-YuQ1lOm"
      },
      "execution_count": null,
      "outputs": []
    },
    {
      "cell_type": "code",
      "source": [
        "model=tf.keras.Sequential([tf.keras.layers.Flatten(input_shape=(28,28)),\n",
        "                           tf.keras.layers.Dense(256, activation='relu'),\n",
        "                           tf.keras.layers.Dense(64, activation='relu'),\n",
        "                           tf.keras.layers.Dense(32, activation='relu'),\n",
        "                           tf.keras.layers.Dense(10, activation='softmax')])"
      ],
      "metadata": {
        "id": "9JWs6NHR3aK_"
      },
      "execution_count": null,
      "outputs": []
    },
    {
      "cell_type": "code",
      "source": [
        "model.compile(loss='binary_crossentropy')"
      ],
      "metadata": {
        "id": "SN3-Ak3E1JvO"
      },
      "execution_count": null,
      "outputs": []
    },
    {
      "cell_type": "code",
      "source": [
        "model.compile(loss='sparse_categorical_crossentropy')"
      ],
      "metadata": {
        "id": "OsG6J2XJ1s5-"
      },
      "execution_count": null,
      "outputs": []
    },
    {
      "cell_type": "code",
      "source": [
        "adam=tf.keras.optimizers.Adam(lr=0.001)\n",
        "model.compile(optimizer=adam)\n",
        "\n",
        "model.compile(optimizer='adam')"
      ],
      "metadata": {
        "id": "03NX-o7_19-u"
      },
      "execution_count": null,
      "outputs": []
    },
    {
      "cell_type": "code",
      "source": [
        "acc=tf.keras.metrics.SparseCategoricalAccuracy()"
      ],
      "metadata": {
        "id": "olAl9iZ52heP"
      },
      "execution_count": null,
      "outputs": []
    },
    {
      "cell_type": "code",
      "source": [
        "model.compile(optimizer=adam,loss='sparse_categorical_crossentropy',metrics=[acc])"
      ],
      "metadata": {
        "id": "H36fPznC4aaH"
      },
      "execution_count": null,
      "outputs": []
    },
    {
      "cell_type": "code",
      "source": [
        "model.fit(x_train,y_train,validation_data=(x_test,y_test),epochs=10)"
      ],
      "metadata": {
        "id": "8dLPeHve488u"
      },
      "execution_count": null,
      "outputs": []
    },
    {
      "cell_type": "code",
      "source": [
        "model.evaluate(x_test,y_test)"
      ],
      "metadata": {
        "id": "Ua1WYmM45qaK"
      },
      "execution_count": null,
      "outputs": []
    },
    {
      "cell_type": "code",
      "source": [
        "test_loss,test_acc=model.evaluate(x_test,y_test)\n",
        "\n",
        "print('검증셋 정확도:',test_acc)"
      ],
      "metadata": {
        "id": "vEl71xBu5x1G"
      },
      "execution_count": null,
      "outputs": []
    },
    {
      "cell_type": "code",
      "source": [
        "predictions = model.predict(x_test)\n",
        "predictions[0]"
      ],
      "metadata": {
        "id": "Gg0yryq76O4A"
      },
      "execution_count": null,
      "outputs": []
    },
    {
      "cell_type": "code",
      "source": [
        "predictions[0].max()"
      ],
      "metadata": {
        "id": "s3X3vjOT6cxG"
      },
      "execution_count": null,
      "outputs": []
    },
    {
      "cell_type": "code",
      "source": [
        "np.argmax(predictions[0])"
      ],
      "metadata": {
        "id": "Z8EKB3Yk6fqF"
      },
      "execution_count": null,
      "outputs": []
    },
    {
      "cell_type": "code",
      "source": [
        "predictions[0].min()"
      ],
      "metadata": {
        "id": "KJfGJ1jF7TT9"
      },
      "execution_count": null,
      "outputs": []
    },
    {
      "cell_type": "code",
      "source": [
        "np.argmin(predictions[0])"
      ],
      "metadata": {
        "id": "mvtqNAng7VTN"
      },
      "execution_count": null,
      "outputs": []
    },
    {
      "cell_type": "code",
      "source": [
        "def get_one_result(idx):\n",
        "    img,y_true,y_pred,confidence= x_test[idx],y_test[idx],np.argmax(predictions[idx]),100*np.max(predictions[idx])\n",
        "    return img,y_true,y_pred,confidence"
      ],
      "metadata": {
        "id": "JBXqadfM7h79"
      },
      "execution_count": null,
      "outputs": []
    },
    {
      "cell_type": "code",
      "source": [
        "fig,axes=plt.subplots(3,5)\n",
        "fig.set_size_inches(8,5)\n",
        "\n",
        "for i in range(15):\n",
        "    ax=axes[i//5, i%5]\n",
        "    img,y_true,y_pred,confidence = get_one_result(i)\n",
        "    ax.imshow(x_train[i], cmap = 'gray')\n",
        "    ax.set_xticks([])\n",
        "    ax.set_yticks([])\n",
        "    ax.set_title(f'True : {y_true}',fontsize = 12)\n",
        "    ax.set_xlabel(f'Prediction : {y_pred}\\nConfidence :({confidence: .2f}%)',fontsize = 7)\n",
        "plt.tight_layout()\n",
        "plt.show()"
      ],
      "metadata": {
        "id": "oC_hMM7t8e63"
      },
      "execution_count": null,
      "outputs": []
    },
    {
      "cell_type": "code",
      "source": [
        "model=tf.keras.Sequential([tf.keras.layers.Flatten(input_shape=(28,28)),\n",
        "                           tf.keras.layers.Dense(64, activation='relu'),\n",
        "                           tf.keras.layers.Dense(32, activation='relu'),\n",
        "                           tf.keras.layers.Dense(10, activation='softmax')])\n",
        "model.summary()"
      ],
      "metadata": {
        "id": "wfZkWP-mz2zS"
      },
      "execution_count": null,
      "outputs": []
    },
    {
      "cell_type": "code",
      "source": [
        "dense=tf.keras.layers.Dense(256,kernel_initializer='uniform',activation='relu')"
      ],
      "metadata": {
        "id": "tR6EarFgrEVz"
      },
      "execution_count": null,
      "outputs": []
    },
    {
      "cell_type": "code",
      "source": [
        "dense=tf.keras.layers.Dense(256,kernel_initializer='normal',activation='relu')"
      ],
      "metadata": {
        "id": "YpcRAnCLr2_e"
      },
      "execution_count": null,
      "outputs": []
    },
    {
      "cell_type": "code",
      "source": [
        "dense=tf.keras.layers.Dense(256,kernel_initializer='he_normal',activation='relu')"
      ],
      "metadata": {
        "id": "pM5-Y12Zr54k"
      },
      "execution_count": null,
      "outputs": []
    },
    {
      "cell_type": "code",
      "source": [
        "model.compile(optimizer='adam',loss='sparse_categorical_crossentropy',metrics=['accuracy'])\n",
        "history = model.fit(x_train,y_train,validation_data = (x_test, y_test),epochs = 10)"
      ],
      "metadata": {
        "id": "vKpWJ3gKtE-Y"
      },
      "execution_count": null,
      "outputs": []
    },
    {
      "cell_type": "code",
      "source": [
        "model_w_he=tf.keras.Sequential([tf.keras.layers.Flatten(input_shape=(28,28)),\n",
        "                           tf.keras.layers.Dense(64, kernel_initializer='he_normal',activation='relu'),\n",
        "                           tf.keras.layers.Dense(32, activation='relu'),\n",
        "                           tf.keras.layers.Dense(10, activation='softmax')])\n",
        "model_w_he.summary()"
      ],
      "metadata": {
        "id": "OBAlrmtkt0DP"
      },
      "execution_count": null,
      "outputs": []
    },
    {
      "cell_type": "code",
      "source": [
        "model_w_he.compile(optimizer='adam',loss='sparse_categorical_crossentropy',metrics=['accuracy'])\n",
        "history_w_he = model_w_he.fit(x_train,y_train,validation_data = (x_test, y_test),epochs = 10)"
      ],
      "metadata": {
        "id": "zmmiYR7duqCg"
      },
      "execution_count": null,
      "outputs": []
    },
    {
      "cell_type": "code",
      "source": [
        "plt.figure(figsize=(5,3))\n",
        "plt.plot(np.arange(1,11),history.history['val_loss'],color='navy',label='None')\n",
        "plt.plot(np.arange(1,11),history_w_he.history['val_loss'],color='tomato',label='He Initialization')\n",
        "plt.title('Losses',fontsize=20)\n",
        "plt.xlabel('epochs')\n",
        "plt.ylabel('Losses')\n",
        "plt.legend()\n",
        "plt.show()"
      ],
      "metadata": {
        "id": "_j0m9xEOvMFu"
      },
      "execution_count": null,
      "outputs": []
    },
    {
      "cell_type": "code",
      "source": [
        "model_w_gl=tf.keras.Sequential([tf.keras.layers.Flatten(input_shape=(28,28)),\n",
        "                           tf.keras.layers.Dense(64,kernel_initializer='glorot_normal',activation='sigmoid'),\n",
        "                           tf.keras.layers.Dense(32, activation='sigmoid'),\n",
        "                           tf.keras.layers.Dense(10, activation='softmax')])\n",
        "model_w_gl.summary()"
      ],
      "metadata": {
        "id": "cfvBiVyq0o89"
      },
      "execution_count": null,
      "outputs": []
    },
    {
      "cell_type": "code",
      "source": [
        "model_w_gl.compile(optimizer='adam',loss='sparse_categorical_crossentropy',metrics=['accuracy'])\n",
        "history_w_gl = model_w_he.fit(x_train,y_train,validation_data = (x_test, y_test),epochs = 10)"
      ],
      "metadata": {
        "id": "kZiWqDLO1IMi"
      },
      "execution_count": null,
      "outputs": []
    },
    {
      "cell_type": "code",
      "source": [
        "plt.figure(figsize=(5,3))\n",
        "plt.plot(np.arange(1,11),history.history['val_loss'],color='navy',label='None')\n",
        "plt.plot(np.arange(1,11),history_w_he.history['val_loss'],color='tomato',label='He Initialization')\n",
        "plt.plot(np.arange(1,11),history_w_gl.history['val_loss'],color='green',label='Xavier Initialization')\n",
        "plt.title('Losses',fontsize=20)\n",
        "plt.xlabel('epochs')\n",
        "plt.ylabel('Losses')\n",
        "plt.legend()\n",
        "plt.show()"
      ],
      "metadata": {
        "id": "fnzhIPgx1YHQ"
      },
      "execution_count": null,
      "outputs": []
    },
    {
      "cell_type": "code",
      "source": [
        "from keras.layers.activation.prelu import regularizers\n",
        "regularizer = tf.keras.regularizers.l2(0.001)\n",
        "L2_model=tf.keras.Sequential([\n",
        "    tf.keras.layers.Flatten(input_shape=(28,28)),\n",
        "    tf.keras.layers.Dense(64,kernel_initializer = 'normal',kernel_regularizer=regularizer,activation='relu'),\n",
        "    tf.keras.layers.Dense(32,kernel_initializer = 'normal',kernel_regularizer=regularizer,activation='relu'),\n",
        "    tf.keras.layers.Dense(10, activation='softmax')])\n",
        "model_w_gl.summary()"
      ],
      "metadata": {
        "id": "Iy07WHMH3HBq"
      },
      "execution_count": null,
      "outputs": []
    },
    {
      "cell_type": "code",
      "source": [
        "#영상이 끈긴건가요 아님 끝난건가요? 영상이 너무 애매하게 끝나고 다른 영상이 없어서.."
      ],
      "metadata": {
        "id": "bz5MzDZN4tnh"
      },
      "execution_count": null,
      "outputs": []
    }
  ]
}